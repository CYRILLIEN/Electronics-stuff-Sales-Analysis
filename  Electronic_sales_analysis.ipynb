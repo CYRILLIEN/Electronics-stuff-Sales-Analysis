{
 "cells": [
  {
   "cell_type": "markdown",
   "id": "d4555645",
   "metadata": {},
   "source": [
    "## Scope of work"
   ]
  },
  {
   "cell_type": "markdown",
   "id": "686ce51a",
   "metadata": {},
   "source": [
    "The data we are about to use for this beginner data analysis project was provided by a small smartphones and gadgets sales company. Hence our goals are :\n",
    "- Determine the month with highest sales? \n",
    "- Determine the city with highest order?\n",
    "- When should we engage a marketing campaign to increase sales?\n",
    "- Determine the product with highest order?\n"
   ]
  },
  {
   "cell_type": "markdown",
   "id": "99a2b4b7",
   "metadata": {},
   "source": [
    "## Data Discovery"
   ]
  },
  {
   "cell_type": "code",
   "execution_count": 1,
   "id": "83c287fd",
   "metadata": {},
   "outputs": [],
   "source": [
    "#Importation of package\n",
    "\n",
    "import os\n",
    "import pandas as pd\n",
    "import numpy as np\n",
    "import matplotlib.pyplot as plt\n",
    "import seaborn as sns"
   ]
  },
  {
   "cell_type": "code",
   "execution_count": 2,
   "id": "6b73a65a",
   "metadata": {},
   "outputs": [
    {
     "name": "stdout",
     "output_type": "stream",
     "text": [
      "['Sales_April_2019.csv', 'Sales_August_2019.csv', 'Sales_December_2019.csv', 'Sales_February_2019.csv', 'Sales_January_2019.csv', 'Sales_July_2019.csv', 'Sales_June_2019.csv', 'Sales_March_2019.csv', 'Sales_May_2019.csv', 'Sales_November_2019.csv', 'Sales_October_2019.csv', 'Sales_September_2019.csv']\n"
     ]
    }
   ],
   "source": [
    "# Diplacing the names of all the files in our dataset\n",
    "files  =  [file for file in os.listdir(r'C:\\Users\\H156405\\Downloads\\Sales_Data\\Sales_Data')]\n",
    "\n",
    "print(files)"
   ]
  },
  {
   "cell_type": "code",
   "execution_count": 3,
   "id": "4aa42a30",
   "metadata": {},
   "outputs": [],
   "source": [
    "all_data =pd.DataFrame(columns=['Order ID', 'Product','Quantity Ordered', 'Price Each','Order Date','Purchase Address'])"
   ]
  },
  {
   "cell_type": "code",
   "execution_count": 4,
   "id": "3cdfd289",
   "metadata": {},
   "outputs": [],
   "source": [
    "# combining all data into a single file \n",
    "path = r'C:\\Users\\H156405\\Downloads\\Sales_Data\\Sales_Data'\n",
    "for file in files:\n",
    "    current_data = pd.read_csv(f\"{path}\\{file}\") # using string formatting to join the current directory to every file name in the folder\n",
    "    all_data = pd.concat([all_data , current_data])"
   ]
  },
  {
   "cell_type": "code",
   "execution_count": 5,
   "id": "1294a760",
   "metadata": {
    "scrolled": false
   },
   "outputs": [],
   "source": [
    "all_data.drop_duplicates(inplace = True)"
   ]
  },
  {
   "cell_type": "code",
   "execution_count": 6,
   "id": "f5d13345",
   "metadata": {},
   "outputs": [],
   "source": [
    "all_data.drop(index=775 , inplace=True)"
   ]
  },
  {
   "cell_type": "code",
   "execution_count": 7,
   "id": "1ff94c14",
   "metadata": {},
   "outputs": [],
   "source": [
    "# SAving combined data in a csv file \n",
    "all_data.to_csv(r'C:\\Users\\H156405\\Downloads\\Sales_Data\\Sales_Data\\all_data.csv' , index= False)"
   ]
  },
  {
   "cell_type": "code",
   "execution_count": 8,
   "id": "c1c60b0a",
   "metadata": {},
   "outputs": [
    {
     "data": {
      "text/plain": [
       "Order ID            float64\n",
       "Product              object\n",
       "Quantity Ordered    float64\n",
       "Price Each          float64\n",
       "Order Date           object\n",
       "Purchase Address     object\n",
       "dtype: object"
      ]
     },
     "execution_count": 8,
     "metadata": {},
     "output_type": "execute_result"
    }
   ],
   "source": [
    "# Printing our data  types\n",
    "all_data.dtypes"
   ]
  },
  {
   "cell_type": "markdown",
   "id": "ca370f56",
   "metadata": {},
   "source": [
    " All the data are of object type. Which doesn't make sense because we have Order ID , quantity ordered  which should be features with numerical types and order date which should be of datetype. This will be corrected in the following steps.\n"
   ]
  },
  {
   "cell_type": "code",
   "execution_count": 9,
   "id": "2dd1675e",
   "metadata": {
    "scrolled": true
   },
   "outputs": [
    {
     "data": {
      "text/plain": [
       "Order ID            1\n",
       "Product             1\n",
       "Quantity Ordered    1\n",
       "Price Each          1\n",
       "Order Date          1\n",
       "Purchase Address    1\n",
       "dtype: int64"
      ]
     },
     "execution_count": 9,
     "metadata": {},
     "output_type": "execute_result"
    }
   ],
   "source": [
    "# Checking for missing values in our data set \n",
    "all_data.isna().sum()"
   ]
  },
  {
   "cell_type": "markdown",
   "id": "5a825d85",
   "metadata": {},
   "source": [
    "The step above shows we have 1 missing input for each features of our dataset."
   ]
  },
  {
   "cell_type": "code",
   "execution_count": 10,
   "id": "db047100",
   "metadata": {},
   "outputs": [
    {
     "data": {
      "text/html": [
       "<div>\n",
       "<style scoped>\n",
       "    .dataframe tbody tr th:only-of-type {\n",
       "        vertical-align: middle;\n",
       "    }\n",
       "\n",
       "    .dataframe tbody tr th {\n",
       "        vertical-align: top;\n",
       "    }\n",
       "\n",
       "    .dataframe thead th {\n",
       "        text-align: right;\n",
       "    }\n",
       "</style>\n",
       "<table border=\"1\" class=\"dataframe\">\n",
       "  <thead>\n",
       "    <tr style=\"text-align: right;\">\n",
       "      <th></th>\n",
       "      <th>Order ID</th>\n",
       "      <th>Product</th>\n",
       "      <th>Quantity Ordered</th>\n",
       "      <th>Price Each</th>\n",
       "      <th>Order Date</th>\n",
       "      <th>Purchase Address</th>\n",
       "    </tr>\n",
       "  </thead>\n",
       "  <tbody>\n",
       "    <tr>\n",
       "      <th>0</th>\n",
       "      <td>False</td>\n",
       "      <td>False</td>\n",
       "      <td>False</td>\n",
       "      <td>False</td>\n",
       "      <td>False</td>\n",
       "      <td>False</td>\n",
       "    </tr>\n",
       "    <tr>\n",
       "      <th>1</th>\n",
       "      <td>False</td>\n",
       "      <td>False</td>\n",
       "      <td>False</td>\n",
       "      <td>False</td>\n",
       "      <td>False</td>\n",
       "      <td>False</td>\n",
       "    </tr>\n",
       "    <tr>\n",
       "      <th>2</th>\n",
       "      <td>False</td>\n",
       "      <td>False</td>\n",
       "      <td>False</td>\n",
       "      <td>False</td>\n",
       "      <td>False</td>\n",
       "      <td>False</td>\n",
       "    </tr>\n",
       "    <tr>\n",
       "      <th>3</th>\n",
       "      <td>False</td>\n",
       "      <td>False</td>\n",
       "      <td>False</td>\n",
       "      <td>False</td>\n",
       "      <td>False</td>\n",
       "      <td>False</td>\n",
       "    </tr>\n",
       "    <tr>\n",
       "      <th>4</th>\n",
       "      <td>False</td>\n",
       "      <td>False</td>\n",
       "      <td>False</td>\n",
       "      <td>False</td>\n",
       "      <td>False</td>\n",
       "      <td>False</td>\n",
       "    </tr>\n",
       "    <tr>\n",
       "      <th>...</th>\n",
       "      <td>...</td>\n",
       "      <td>...</td>\n",
       "      <td>...</td>\n",
       "      <td>...</td>\n",
       "      <td>...</td>\n",
       "      <td>...</td>\n",
       "    </tr>\n",
       "    <tr>\n",
       "      <th>11681</th>\n",
       "      <td>False</td>\n",
       "      <td>False</td>\n",
       "      <td>False</td>\n",
       "      <td>False</td>\n",
       "      <td>False</td>\n",
       "      <td>False</td>\n",
       "    </tr>\n",
       "    <tr>\n",
       "      <th>11682</th>\n",
       "      <td>False</td>\n",
       "      <td>False</td>\n",
       "      <td>False</td>\n",
       "      <td>False</td>\n",
       "      <td>False</td>\n",
       "      <td>False</td>\n",
       "    </tr>\n",
       "    <tr>\n",
       "      <th>11683</th>\n",
       "      <td>False</td>\n",
       "      <td>False</td>\n",
       "      <td>False</td>\n",
       "      <td>False</td>\n",
       "      <td>False</td>\n",
       "      <td>False</td>\n",
       "    </tr>\n",
       "    <tr>\n",
       "      <th>11684</th>\n",
       "      <td>False</td>\n",
       "      <td>False</td>\n",
       "      <td>False</td>\n",
       "      <td>False</td>\n",
       "      <td>False</td>\n",
       "      <td>False</td>\n",
       "    </tr>\n",
       "    <tr>\n",
       "      <th>11685</th>\n",
       "      <td>False</td>\n",
       "      <td>False</td>\n",
       "      <td>False</td>\n",
       "      <td>False</td>\n",
       "      <td>False</td>\n",
       "      <td>False</td>\n",
       "    </tr>\n",
       "  </tbody>\n",
       "</table>\n",
       "<p>185676 rows × 6 columns</p>\n",
       "</div>"
      ],
      "text/plain": [
       "       Order ID  Product  Quantity Ordered  Price Each  Order Date  \\\n",
       "0         False    False             False       False       False   \n",
       "1         False    False             False       False       False   \n",
       "2         False    False             False       False       False   \n",
       "3         False    False             False       False       False   \n",
       "4         False    False             False       False       False   \n",
       "...         ...      ...               ...         ...         ...   \n",
       "11681     False    False             False       False       False   \n",
       "11682     False    False             False       False       False   \n",
       "11683     False    False             False       False       False   \n",
       "11684     False    False             False       False       False   \n",
       "11685     False    False             False       False       False   \n",
       "\n",
       "       Purchase Address  \n",
       "0                 False  \n",
       "1                 False  \n",
       "2                 False  \n",
       "3                 False  \n",
       "4                 False  \n",
       "...                 ...  \n",
       "11681             False  \n",
       "11682             False  \n",
       "11683             False  \n",
       "11684             False  \n",
       "11685             False  \n",
       "\n",
       "[185676 rows x 6 columns]"
      ]
     },
     "execution_count": 10,
     "metadata": {},
     "output_type": "execute_result"
    }
   ],
   "source": [
    "# viewing the missing values \n",
    "all_data.isna()"
   ]
  },
  {
   "cell_type": "code",
   "execution_count": 11,
   "id": "c3ab451f",
   "metadata": {},
   "outputs": [
    {
     "data": {
      "text/plain": [
       "(185676, 6)"
      ]
     },
     "execution_count": 11,
     "metadata": {},
     "output_type": "execute_result"
    }
   ],
   "source": [
    "# Displacing the shape of our data set \n",
    "all_data.shape"
   ]
  },
  {
   "cell_type": "markdown",
   "id": "6e7b3b52",
   "metadata": {},
   "source": [
    "Our data set has 6 features and 185676 records. "
   ]
  },
  {
   "cell_type": "code",
   "execution_count": 12,
   "id": "690ee141",
   "metadata": {},
   "outputs": [
    {
     "data": {
      "text/plain": [
       "Order ID            0.000539\n",
       "Product             0.000539\n",
       "Quantity Ordered    0.000539\n",
       "Price Each          0.000539\n",
       "Order Date          0.000539\n",
       "Purchase Address    0.000539\n",
       "dtype: float64"
      ]
     },
     "execution_count": 12,
     "metadata": {},
     "output_type": "execute_result"
    }
   ],
   "source": [
    "(all_data.isnull().sum()/all_data.shape[0])*100"
   ]
  },
  {
   "cell_type": "markdown",
   "id": "8085ed4b",
   "metadata": {},
   "source": [
    "The above step shows that we have 0.000539% of missing inputs in our records , therefore it's not harmful to delete all the records with missing values "
   ]
  },
  {
   "cell_type": "code",
   "execution_count": 13,
   "id": "e4121a0a",
   "metadata": {},
   "outputs": [
    {
     "data": {
      "text/plain": [
       "(185675, 6)"
      ]
     },
     "execution_count": 13,
     "metadata": {},
     "output_type": "execute_result"
    }
   ],
   "source": [
    "# Dropping records with missing values \n",
    "all_data = all_data.dropna(how='all')\n",
    "all_data.shape"
   ]
  },
  {
   "cell_type": "markdown",
   "id": "d0534aba",
   "metadata": {},
   "source": [
    "We are now left with 185675 records which is still and good number for the analysis "
   ]
  },
  {
   "cell_type": "code",
   "execution_count": 14,
   "id": "64e1043e",
   "metadata": {},
   "outputs": [
    {
     "data": {
      "text/plain": [
       "Order ID            0\n",
       "Product             0\n",
       "Quantity Ordered    0\n",
       "Price Each          0\n",
       "Order Date          0\n",
       "Purchase Address    0\n",
       "dtype: int64"
      ]
     },
     "execution_count": 14,
     "metadata": {},
     "output_type": "execute_result"
    }
   ],
   "source": [
    "all_data.isnull().sum()"
   ]
  },
  {
   "cell_type": "code",
   "execution_count": 15,
   "id": "cd92881b",
   "metadata": {},
   "outputs": [
    {
     "data": {
      "text/html": [
       "<div>\n",
       "<style scoped>\n",
       "    .dataframe tbody tr th:only-of-type {\n",
       "        vertical-align: middle;\n",
       "    }\n",
       "\n",
       "    .dataframe tbody tr th {\n",
       "        vertical-align: top;\n",
       "    }\n",
       "\n",
       "    .dataframe thead th {\n",
       "        text-align: right;\n",
       "    }\n",
       "</style>\n",
       "<table border=\"1\" class=\"dataframe\">\n",
       "  <thead>\n",
       "    <tr style=\"text-align: right;\">\n",
       "      <th></th>\n",
       "      <th>Order ID</th>\n",
       "      <th>Product</th>\n",
       "      <th>Quantity Ordered</th>\n",
       "      <th>Price Each</th>\n",
       "      <th>Order Date</th>\n",
       "      <th>Purchase Address</th>\n",
       "    </tr>\n",
       "  </thead>\n",
       "  <tbody>\n",
       "    <tr>\n",
       "      <th>0</th>\n",
       "      <td>176558.0</td>\n",
       "      <td>USB-C Charging Cable</td>\n",
       "      <td>2.0</td>\n",
       "      <td>11.95</td>\n",
       "      <td>4/19/2019 8:46</td>\n",
       "      <td>917 1st St, Dallas, TX 75001</td>\n",
       "    </tr>\n",
       "    <tr>\n",
       "      <th>1</th>\n",
       "      <td>176559.0</td>\n",
       "      <td>Bose SoundSport Headphones</td>\n",
       "      <td>1.0</td>\n",
       "      <td>99.99</td>\n",
       "      <td>4/7/2019 22:30</td>\n",
       "      <td>682 Chestnut St, Boston, MA 02215</td>\n",
       "    </tr>\n",
       "    <tr>\n",
       "      <th>2</th>\n",
       "      <td>176560.0</td>\n",
       "      <td>Google Phone</td>\n",
       "      <td>1.0</td>\n",
       "      <td>600.00</td>\n",
       "      <td>4/12/2019 14:38</td>\n",
       "      <td>669 Spruce St, Los Angeles, CA 90001</td>\n",
       "    </tr>\n",
       "    <tr>\n",
       "      <th>3</th>\n",
       "      <td>176560.0</td>\n",
       "      <td>Wired Headphones</td>\n",
       "      <td>1.0</td>\n",
       "      <td>11.99</td>\n",
       "      <td>4/12/2019 14:38</td>\n",
       "      <td>669 Spruce St, Los Angeles, CA 90001</td>\n",
       "    </tr>\n",
       "    <tr>\n",
       "      <th>4</th>\n",
       "      <td>176561.0</td>\n",
       "      <td>Wired Headphones</td>\n",
       "      <td>1.0</td>\n",
       "      <td>11.99</td>\n",
       "      <td>4/30/2019 9:27</td>\n",
       "      <td>333 8th St, Los Angeles, CA 90001</td>\n",
       "    </tr>\n",
       "  </tbody>\n",
       "</table>\n",
       "</div>"
      ],
      "text/plain": [
       "   Order ID                     Product  Quantity Ordered  Price Each  \\\n",
       "0  176558.0        USB-C Charging Cable               2.0       11.95   \n",
       "1  176559.0  Bose SoundSport Headphones               1.0       99.99   \n",
       "2  176560.0                Google Phone               1.0      600.00   \n",
       "3  176560.0            Wired Headphones               1.0       11.99   \n",
       "4  176561.0            Wired Headphones               1.0       11.99   \n",
       "\n",
       "        Order Date                      Purchase Address  \n",
       "0   4/19/2019 8:46          917 1st St, Dallas, TX 75001  \n",
       "1   4/7/2019 22:30     682 Chestnut St, Boston, MA 02215  \n",
       "2  4/12/2019 14:38  669 Spruce St, Los Angeles, CA 90001  \n",
       "3  4/12/2019 14:38  669 Spruce St, Los Angeles, CA 90001  \n",
       "4   4/30/2019 9:27     333 8th St, Los Angeles, CA 90001  "
      ]
     },
     "execution_count": 15,
     "metadata": {},
     "output_type": "execute_result"
    }
   ],
   "source": [
    "all_data.head()"
   ]
  },
  {
   "cell_type": "code",
   "execution_count": 16,
   "id": "8899cec5",
   "metadata": {},
   "outputs": [
    {
     "data": {
      "text/plain": [
       "array([176558., 176559., 176560., ..., 259355., 259356., 259357.])"
      ]
     },
     "execution_count": 16,
     "metadata": {},
     "output_type": "execute_result"
    }
   ],
   "source": [
    "all_data['Order ID'].unique()"
   ]
  },
  {
   "cell_type": "code",
   "execution_count": 17,
   "id": "840de77a",
   "metadata": {},
   "outputs": [],
   "source": [
    "all_data['Order ID'] = all_data['Order ID'].apply(lambda x: int(x) )"
   ]
  },
  {
   "cell_type": "code",
   "execution_count": 18,
   "id": "760195e8",
   "metadata": {},
   "outputs": [
    {
     "data": {
      "text/plain": [
       "array([  11.95,   99.99,  600.  ,   11.99, 1700.  ,   14.95,  389.99,\n",
       "          3.84,  150.  ,    2.99,  700.  ,  300.  ,  149.99,  109.99,\n",
       "        999.99,  400.  ,  379.99])"
      ]
     },
     "execution_count": 18,
     "metadata": {},
     "output_type": "execute_result"
    }
   ],
   "source": [
    "all_data['Price Each'].unique()"
   ]
  },
  {
   "cell_type": "code",
   "execution_count": 19,
   "id": "e664cf8b",
   "metadata": {},
   "outputs": [],
   "source": [
    "all_data['Price Each'] = all_data['Price Each'].apply(lambda x: float(x) )"
   ]
  },
  {
   "cell_type": "code",
   "execution_count": 20,
   "id": "d1cb6f33",
   "metadata": {},
   "outputs": [],
   "source": [
    "all_data['Quantity Ordered'] = all_data['Quantity Ordered'].astype(np.int8)"
   ]
  },
  {
   "cell_type": "code",
   "execution_count": 21,
   "id": "c50c086e",
   "metadata": {},
   "outputs": [],
   "source": [
    "all_data['Order Date'] = pd.to_datetime(all_data['Order Date'])"
   ]
  },
  {
   "cell_type": "code",
   "execution_count": 22,
   "id": "e3fde74e",
   "metadata": {},
   "outputs": [
    {
     "data": {
      "text/plain": [
       "Order ID                     int64\n",
       "Product                     object\n",
       "Quantity Ordered              int8\n",
       "Price Each                 float64\n",
       "Order Date          datetime64[ns]\n",
       "Purchase Address            object\n",
       "dtype: object"
      ]
     },
     "execution_count": 22,
     "metadata": {},
     "output_type": "execute_result"
    }
   ],
   "source": [
    "all_data.dtypes"
   ]
  },
  {
   "cell_type": "code",
   "execution_count": 23,
   "id": "2de5acda",
   "metadata": {},
   "outputs": [],
   "source": [
    "all_data['sales'] = all_data['Quantity Ordered']*all_data['Price Each']"
   ]
  },
  {
   "cell_type": "code",
   "execution_count": 24,
   "id": "89ba8fd2",
   "metadata": {},
   "outputs": [
    {
     "data": {
      "text/html": [
       "<div>\n",
       "<style scoped>\n",
       "    .dataframe tbody tr th:only-of-type {\n",
       "        vertical-align: middle;\n",
       "    }\n",
       "\n",
       "    .dataframe tbody tr th {\n",
       "        vertical-align: top;\n",
       "    }\n",
       "\n",
       "    .dataframe thead th {\n",
       "        text-align: right;\n",
       "    }\n",
       "</style>\n",
       "<table border=\"1\" class=\"dataframe\">\n",
       "  <thead>\n",
       "    <tr style=\"text-align: right;\">\n",
       "      <th></th>\n",
       "      <th>Order ID</th>\n",
       "      <th>Product</th>\n",
       "      <th>Quantity Ordered</th>\n",
       "      <th>Price Each</th>\n",
       "      <th>Order Date</th>\n",
       "      <th>Purchase Address</th>\n",
       "      <th>sales</th>\n",
       "    </tr>\n",
       "  </thead>\n",
       "  <tbody>\n",
       "    <tr>\n",
       "      <th>0</th>\n",
       "      <td>176558</td>\n",
       "      <td>USB-C Charging Cable</td>\n",
       "      <td>2</td>\n",
       "      <td>11.95</td>\n",
       "      <td>2019-04-19 08:46:00</td>\n",
       "      <td>917 1st St, Dallas, TX 75001</td>\n",
       "      <td>23.90</td>\n",
       "    </tr>\n",
       "    <tr>\n",
       "      <th>1</th>\n",
       "      <td>176559</td>\n",
       "      <td>Bose SoundSport Headphones</td>\n",
       "      <td>1</td>\n",
       "      <td>99.99</td>\n",
       "      <td>2019-04-07 22:30:00</td>\n",
       "      <td>682 Chestnut St, Boston, MA 02215</td>\n",
       "      <td>99.99</td>\n",
       "    </tr>\n",
       "    <tr>\n",
       "      <th>2</th>\n",
       "      <td>176560</td>\n",
       "      <td>Google Phone</td>\n",
       "      <td>1</td>\n",
       "      <td>600.00</td>\n",
       "      <td>2019-04-12 14:38:00</td>\n",
       "      <td>669 Spruce St, Los Angeles, CA 90001</td>\n",
       "      <td>600.00</td>\n",
       "    </tr>\n",
       "    <tr>\n",
       "      <th>3</th>\n",
       "      <td>176560</td>\n",
       "      <td>Wired Headphones</td>\n",
       "      <td>1</td>\n",
       "      <td>11.99</td>\n",
       "      <td>2019-04-12 14:38:00</td>\n",
       "      <td>669 Spruce St, Los Angeles, CA 90001</td>\n",
       "      <td>11.99</td>\n",
       "    </tr>\n",
       "    <tr>\n",
       "      <th>4</th>\n",
       "      <td>176561</td>\n",
       "      <td>Wired Headphones</td>\n",
       "      <td>1</td>\n",
       "      <td>11.99</td>\n",
       "      <td>2019-04-30 09:27:00</td>\n",
       "      <td>333 8th St, Los Angeles, CA 90001</td>\n",
       "      <td>11.99</td>\n",
       "    </tr>\n",
       "    <tr>\n",
       "      <th>5</th>\n",
       "      <td>176562</td>\n",
       "      <td>USB-C Charging Cable</td>\n",
       "      <td>1</td>\n",
       "      <td>11.95</td>\n",
       "      <td>2019-04-29 13:03:00</td>\n",
       "      <td>381 Wilson St, San Francisco, CA 94016</td>\n",
       "      <td>11.95</td>\n",
       "    </tr>\n",
       "  </tbody>\n",
       "</table>\n",
       "</div>"
      ],
      "text/plain": [
       "   Order ID                     Product  Quantity Ordered  Price Each  \\\n",
       "0    176558        USB-C Charging Cable                 2       11.95   \n",
       "1    176559  Bose SoundSport Headphones                 1       99.99   \n",
       "2    176560                Google Phone                 1      600.00   \n",
       "3    176560            Wired Headphones                 1       11.99   \n",
       "4    176561            Wired Headphones                 1       11.99   \n",
       "5    176562        USB-C Charging Cable                 1       11.95   \n",
       "\n",
       "           Order Date                        Purchase Address   sales  \n",
       "0 2019-04-19 08:46:00            917 1st St, Dallas, TX 75001   23.90  \n",
       "1 2019-04-07 22:30:00       682 Chestnut St, Boston, MA 02215   99.99  \n",
       "2 2019-04-12 14:38:00    669 Spruce St, Los Angeles, CA 90001  600.00  \n",
       "3 2019-04-12 14:38:00    669 Spruce St, Los Angeles, CA 90001   11.99  \n",
       "4 2019-04-30 09:27:00       333 8th St, Los Angeles, CA 90001   11.99  \n",
       "5 2019-04-29 13:03:00  381 Wilson St, San Francisco, CA 94016   11.95  "
      ]
     },
     "execution_count": 24,
     "metadata": {},
     "output_type": "execute_result"
    }
   ],
   "source": [
    "all_data.head(6)"
   ]
  },
  {
   "cell_type": "code",
   "execution_count": 25,
   "id": "a7668d79",
   "metadata": {},
   "outputs": [
    {
     "data": {
      "text/html": [
       "<div>\n",
       "<style scoped>\n",
       "    .dataframe tbody tr th:only-of-type {\n",
       "        vertical-align: middle;\n",
       "    }\n",
       "\n",
       "    .dataframe tbody tr th {\n",
       "        vertical-align: top;\n",
       "    }\n",
       "\n",
       "    .dataframe thead th {\n",
       "        text-align: right;\n",
       "    }\n",
       "</style>\n",
       "<table border=\"1\" class=\"dataframe\">\n",
       "  <thead>\n",
       "    <tr style=\"text-align: right;\">\n",
       "      <th></th>\n",
       "      <th>0</th>\n",
       "    </tr>\n",
       "  </thead>\n",
       "  <tbody>\n",
       "    <tr>\n",
       "      <th>Order ID</th>\n",
       "      <td>319670</td>\n",
       "    </tr>\n",
       "    <tr>\n",
       "      <th>Product</th>\n",
       "      <td>iPhone</td>\n",
       "    </tr>\n",
       "    <tr>\n",
       "      <th>Quantity Ordered</th>\n",
       "      <td>9</td>\n",
       "    </tr>\n",
       "    <tr>\n",
       "      <th>Price Each</th>\n",
       "      <td>1700.0</td>\n",
       "    </tr>\n",
       "    <tr>\n",
       "      <th>Order Date</th>\n",
       "      <td>2020-01-01 05:13:00</td>\n",
       "    </tr>\n",
       "    <tr>\n",
       "      <th>Purchase Address</th>\n",
       "      <td>999 Wilson St, San Francisco, CA 94016</td>\n",
       "    </tr>\n",
       "    <tr>\n",
       "      <th>sales</th>\n",
       "      <td>3400.0</td>\n",
       "    </tr>\n",
       "  </tbody>\n",
       "</table>\n",
       "</div>"
      ],
      "text/plain": [
       "                                                       0\n",
       "Order ID                                          319670\n",
       "Product                                           iPhone\n",
       "Quantity Ordered                                       9\n",
       "Price Each                                        1700.0\n",
       "Order Date                           2020-01-01 05:13:00\n",
       "Purchase Address  999 Wilson St, San Francisco, CA 94016\n",
       "sales                                             3400.0"
      ]
     },
     "execution_count": 25,
     "metadata": {},
     "output_type": "execute_result"
    }
   ],
   "source": [
    "all_data.max().to_frame()"
   ]
  },
  {
   "cell_type": "markdown",
   "id": "07b16579",
   "metadata": {},
   "source": [
    "The highest sale was on January 1st 2020 , with a sales of $3400  and 9 orders of iphones in 999 Wilson St, San Francisco , CA 94016"
   ]
  },
  {
   "cell_type": "code",
   "execution_count": 26,
   "id": "354a69cb",
   "metadata": {},
   "outputs": [],
   "source": [
    "#break the date in month to have the month with higher sales \n",
    "all_data['Month'] = all_data['Order Date'].apply(lambda x:str(x).split('-')[1])"
   ]
  },
  {
   "cell_type": "code",
   "execution_count": 27,
   "id": "af8b5c32",
   "metadata": {},
   "outputs": [
    {
     "data": {
      "text/html": [
       "<div>\n",
       "<style scoped>\n",
       "    .dataframe tbody tr th:only-of-type {\n",
       "        vertical-align: middle;\n",
       "    }\n",
       "\n",
       "    .dataframe tbody tr th {\n",
       "        vertical-align: top;\n",
       "    }\n",
       "\n",
       "    .dataframe thead th {\n",
       "        text-align: right;\n",
       "    }\n",
       "</style>\n",
       "<table border=\"1\" class=\"dataframe\">\n",
       "  <thead>\n",
       "    <tr style=\"text-align: right;\">\n",
       "      <th></th>\n",
       "      <th>Order ID</th>\n",
       "      <th>Product</th>\n",
       "      <th>Quantity Ordered</th>\n",
       "      <th>Price Each</th>\n",
       "      <th>Order Date</th>\n",
       "      <th>Purchase Address</th>\n",
       "      <th>sales</th>\n",
       "      <th>Month</th>\n",
       "    </tr>\n",
       "  </thead>\n",
       "  <tbody>\n",
       "    <tr>\n",
       "      <th>0</th>\n",
       "      <td>176558</td>\n",
       "      <td>USB-C Charging Cable</td>\n",
       "      <td>2</td>\n",
       "      <td>11.95</td>\n",
       "      <td>2019-04-19 08:46:00</td>\n",
       "      <td>917 1st St, Dallas, TX 75001</td>\n",
       "      <td>23.90</td>\n",
       "      <td>04</td>\n",
       "    </tr>\n",
       "    <tr>\n",
       "      <th>1</th>\n",
       "      <td>176559</td>\n",
       "      <td>Bose SoundSport Headphones</td>\n",
       "      <td>1</td>\n",
       "      <td>99.99</td>\n",
       "      <td>2019-04-07 22:30:00</td>\n",
       "      <td>682 Chestnut St, Boston, MA 02215</td>\n",
       "      <td>99.99</td>\n",
       "      <td>04</td>\n",
       "    </tr>\n",
       "    <tr>\n",
       "      <th>2</th>\n",
       "      <td>176560</td>\n",
       "      <td>Google Phone</td>\n",
       "      <td>1</td>\n",
       "      <td>600.00</td>\n",
       "      <td>2019-04-12 14:38:00</td>\n",
       "      <td>669 Spruce St, Los Angeles, CA 90001</td>\n",
       "      <td>600.00</td>\n",
       "      <td>04</td>\n",
       "    </tr>\n",
       "    <tr>\n",
       "      <th>3</th>\n",
       "      <td>176560</td>\n",
       "      <td>Wired Headphones</td>\n",
       "      <td>1</td>\n",
       "      <td>11.99</td>\n",
       "      <td>2019-04-12 14:38:00</td>\n",
       "      <td>669 Spruce St, Los Angeles, CA 90001</td>\n",
       "      <td>11.99</td>\n",
       "      <td>04</td>\n",
       "    </tr>\n",
       "    <tr>\n",
       "      <th>4</th>\n",
       "      <td>176561</td>\n",
       "      <td>Wired Headphones</td>\n",
       "      <td>1</td>\n",
       "      <td>11.99</td>\n",
       "      <td>2019-04-30 09:27:00</td>\n",
       "      <td>333 8th St, Los Angeles, CA 90001</td>\n",
       "      <td>11.99</td>\n",
       "      <td>04</td>\n",
       "    </tr>\n",
       "  </tbody>\n",
       "</table>\n",
       "</div>"
      ],
      "text/plain": [
       "   Order ID                     Product  Quantity Ordered  Price Each  \\\n",
       "0    176558        USB-C Charging Cable                 2       11.95   \n",
       "1    176559  Bose SoundSport Headphones                 1       99.99   \n",
       "2    176560                Google Phone                 1      600.00   \n",
       "3    176560            Wired Headphones                 1       11.99   \n",
       "4    176561            Wired Headphones                 1       11.99   \n",
       "\n",
       "           Order Date                      Purchase Address   sales Month  \n",
       "0 2019-04-19 08:46:00          917 1st St, Dallas, TX 75001   23.90    04  \n",
       "1 2019-04-07 22:30:00     682 Chestnut St, Boston, MA 02215   99.99    04  \n",
       "2 2019-04-12 14:38:00  669 Spruce St, Los Angeles, CA 90001  600.00    04  \n",
       "3 2019-04-12 14:38:00  669 Spruce St, Los Angeles, CA 90001   11.99    04  \n",
       "4 2019-04-30 09:27:00     333 8th St, Los Angeles, CA 90001   11.99    04  "
      ]
     },
     "execution_count": 27,
     "metadata": {},
     "output_type": "execute_result"
    }
   ],
   "source": [
    "all_data.head()"
   ]
  },
  {
   "cell_type": "code",
   "execution_count": 28,
   "id": "aa30db6f",
   "metadata": {},
   "outputs": [
    {
     "data": {
      "text/plain": [
       "Month\n",
       "01    1.821113e+06\n",
       "02    2.200066e+06\n",
       "03    2.804958e+06\n",
       "04    3.389212e+06\n",
       "05    3.150604e+06\n",
       "06    2.576268e+06\n",
       "07    2.646461e+06\n",
       "08    2.240383e+06\n",
       "09    2.094086e+06\n",
       "10    3.734766e+06\n",
       "11    3.197725e+06\n",
       "12    4.608292e+06\n",
       "Name: sales, dtype: float64"
      ]
     },
     "execution_count": 28,
     "metadata": {},
     "output_type": "execute_result"
    }
   ],
   "source": [
    "all_data.groupby('Month')['sales'].sum()"
   ]
  },
  {
   "cell_type": "markdown",
   "id": "ea1e7ff1",
   "metadata": {},
   "source": [
    "From this execution above , we can observe we did the highest sales of around 4.61 Millions in the month of December."
   ]
  },
  {
   "cell_type": "code",
   "execution_count": 29,
   "id": "7fbb1fac",
   "metadata": {},
   "outputs": [
    {
     "data": {
      "image/png": "[encoded data removed]",
      "text/plain": [
       "<Figure size 864x720 with 1 Axes>"
      ]
     },
     "metadata": {
      "needs_background": "light"
     },
     "output_type": "display_data"
    }
   ],
   "source": [
    "# let's plot these data on a bar graph \n",
    "Month =range(1,13)\n",
    "plt.figure(figsize=(12,10))\n",
    "plt.bar( Month, all_data.groupby('Month')['sales'].sum(),color='g',log=True)\n",
    "plt.xticks(Month)\n",
    "plt.xlabel('Month in Number')\n",
    "plt.ylabel('Sales in USD')\n",
    "plt.title('Total sales in USD by month')\n",
    "plt.show()"
   ]
  },
  {
   "cell_type": "code",
   "execution_count": 30,
   "id": "b08ce21f",
   "metadata": {},
   "outputs": [
    {
     "data": {
      "text/html": [
       "<div>\n",
       "<style scoped>\n",
       "    .dataframe tbody tr th:only-of-type {\n",
       "        vertical-align: middle;\n",
       "    }\n",
       "\n",
       "    .dataframe tbody tr th {\n",
       "        vertical-align: top;\n",
       "    }\n",
       "\n",
       "    .dataframe thead th {\n",
       "        text-align: right;\n",
       "    }\n",
       "</style>\n",
       "<table border=\"1\" class=\"dataframe\">\n",
       "  <thead>\n",
       "    <tr style=\"text-align: right;\">\n",
       "      <th></th>\n",
       "      <th>City</th>\n",
       "    </tr>\n",
       "  </thead>\n",
       "  <tbody>\n",
       "    <tr>\n",
       "      <th>0</th>\n",
       "      <td>Dallas</td>\n",
       "    </tr>\n",
       "    <tr>\n",
       "      <th>1</th>\n",
       "      <td>Boston</td>\n",
       "    </tr>\n",
       "    <tr>\n",
       "      <th>2</th>\n",
       "      <td>Los Angeles</td>\n",
       "    </tr>\n",
       "    <tr>\n",
       "      <th>3</th>\n",
       "      <td>Los Angeles</td>\n",
       "    </tr>\n",
       "    <tr>\n",
       "      <th>4</th>\n",
       "      <td>Los Angeles</td>\n",
       "    </tr>\n",
       "    <tr>\n",
       "      <th>...</th>\n",
       "      <td>...</td>\n",
       "    </tr>\n",
       "    <tr>\n",
       "      <th>11681</th>\n",
       "      <td>Los Angeles</td>\n",
       "    </tr>\n",
       "    <tr>\n",
       "      <th>11682</th>\n",
       "      <td>San Francisco</td>\n",
       "    </tr>\n",
       "    <tr>\n",
       "      <th>11683</th>\n",
       "      <td>San Francisco</td>\n",
       "    </tr>\n",
       "    <tr>\n",
       "      <th>11684</th>\n",
       "      <td>San Francisco</td>\n",
       "    </tr>\n",
       "    <tr>\n",
       "      <th>11685</th>\n",
       "      <td>San Francisco</td>\n",
       "    </tr>\n",
       "  </tbody>\n",
       "</table>\n",
       "<p>185675 rows × 1 columns</p>\n",
       "</div>"
      ],
      "text/plain": [
       "                City\n",
       "0             Dallas\n",
       "1             Boston\n",
       "2        Los Angeles\n",
       "3        Los Angeles\n",
       "4        Los Angeles\n",
       "...              ...\n",
       "11681    Los Angeles\n",
       "11682  San Francisco\n",
       "11683  San Francisco\n",
       "11684  San Francisco\n",
       "11685  San Francisco\n",
       "\n",
       "[185675 rows x 1 columns]"
      ]
     },
     "execution_count": 30,
     "metadata": {},
     "output_type": "execute_result"
    }
   ],
   "source": [
    "#Extracting the cities from the addresses\n",
    "all_data['City'] = all_data['Purchase Address'].apply(lambda x:x.split(',')[1].strip())\n",
    "all_data['City'].to_frame()"
   ]
  },
  {
   "cell_type": "code",
   "execution_count": 31,
   "id": "62eceff2",
   "metadata": {},
   "outputs": [
    {
     "data": {
      "text/plain": [
       "City\n",
       "Atlanta          16584.0\n",
       "Austin           11137.0\n",
       "Boston           22490.0\n",
       "Dallas           16707.0\n",
       "Los Angeles      33246.0\n",
       "New York City    27902.0\n",
       "Portland         14035.0\n",
       "San Francisco    50165.0\n",
       "Seattle          16534.0\n",
       "Name: Quantity Ordered, dtype: float64"
      ]
     },
     "execution_count": 31,
     "metadata": {},
     "output_type": "execute_result"
    }
   ],
   "source": [
    "# let's get the city with highest order \n",
    "all_data.groupby('City')['Quantity Ordered'].sum()"
   ]
  },
  {
   "cell_type": "code",
   "execution_count": 32,
   "id": "f50a6317",
   "metadata": {},
   "outputs": [
    {
     "data": {
      "image/png": "[encoded data removed]",
      "text/plain": [
       "<Figure size 864x720 with 1 Axes>"
      ]
     },
     "metadata": {
      "needs_background": "light"
     },
     "output_type": "display_data"
    }
   ],
   "source": [
    "City =all_data['City'].unique()\n",
    "plt.figure(figsize=(12,10))\n",
    "plt.bar( all_data.groupby('City')['Quantity Ordered'].sum().index, all_data.groupby('City')['Quantity Ordered'].sum(),color='r',log=False)\n",
    "plt.xticks(City, rotation='vertical')\n",
    "plt.xlabel('City')\n",
    "plt.ylabel('Quantity Ordered by City')\n",
    "plt.title('Total Quantity Ordered by City')\n",
    "plt.show()"
   ]
  },
  {
   "cell_type": "markdown",
   "id": "2f11cef7",
   "metadata": {},
   "source": [
    " The city of **San Francisco** has the highest total quantity ordered in 2020 with **50165** products orders.\n"
   ]
  },
  {
   "cell_type": "code",
   "execution_count": 33,
   "id": "3a4681d8",
   "metadata": {},
   "outputs": [
    {
     "data": {
      "text/plain": [
       "City\n",
       "Atlanta          14863\n",
       "Austin            9890\n",
       "Boston           19898\n",
       "Dallas           14797\n",
       "Los Angeles      29563\n",
       "New York City    24846\n",
       "Portland         12447\n",
       "San Francisco    44658\n",
       "Seattle          14713\n",
       "Name: Quantity Ordered, dtype: int64"
      ]
     },
     "execution_count": 33,
     "metadata": {},
     "output_type": "execute_result"
    }
   ],
   "source": [
    "#let's get the number of orders per city \n",
    "\n",
    "all_data.groupby('City')['Quantity Ordered'].count()"
   ]
  },
  {
   "cell_type": "code",
   "execution_count": 34,
   "id": "4d5b6a03",
   "metadata": {},
   "outputs": [
    {
     "data": {
      "image/png": "[encoded data removed]",
      "text/plain": [
       "<Figure size 864x720 with 1 Axes>"
      ]
     },
     "metadata": {
      "needs_background": "light"
     },
     "output_type": "display_data"
    }
   ],
   "source": [
    "plt.figure(figsize=(12,10))\n",
    "plt.bar( all_data.groupby('City')['Quantity Ordered'].count().index, all_data.groupby('City')['Quantity Ordered'].count(),color='y',log=False)\n",
    "plt.xticks(City, rotation='vertical')\n",
    "plt.xlabel('City')\n",
    "plt.ylabel('Number of Orders')\n",
    "plt.title('Number of Orders by City')\n",
    "plt.show()"
   ]
  },
  {
   "cell_type": "markdown",
   "id": "458d19fc",
   "metadata": {},
   "source": [
    "The city of **San Francisco** has the highest number of  orders in 2020 with **44658** orders."
   ]
  },
  {
   "cell_type": "code",
   "execution_count": 35,
   "id": "5896b376",
   "metadata": {},
   "outputs": [
    {
     "name": "stdout",
     "output_type": "stream",
     "text": [
      "Most product ordered is AAA Batteries (4-pack)in the city of Dallas with 2500.0 orders\n",
      "Most product ordered is AAA Batteries (4-pack)in the city of Boston with 3456.0 orders\n",
      "Most product ordered is AAA Batteries (4-pack)in the city of Los Angeles with 4958.0 orders\n",
      "Most product ordered is AAA Batteries (4-pack)in the city of San Francisco with 7404.0 orders\n",
      "Most product ordered is AAA Batteries (4-pack)in the city of Seattle with 2443.0 orders\n",
      "Most product ordered is AAA Batteries (4-pack)in the city of Atlanta with 2358.0 orders\n",
      "Most product ordered is AAA Batteries (4-pack)in the city of New York City with 4119.0 orders\n",
      "Most product ordered is AAA Batteries (4-pack)in the city of Portland with 2078.0 orders\n",
      "Most product ordered is AAA Batteries (4-pack)in the city of Austin with 1668.0 orders\n"
     ]
    }
   ],
   "source": [
    "#let's get the product with highest order\n",
    "# We can break in down by cities and by month\n",
    "\n",
    "# By city\n",
    "for city in City:\n",
    "    Quantity_ordered_bycity = all_data[all_data['City']==city].groupby('Product')['Quantity Ordered'].sum()\n",
    "    #print(Quantity_ordered_bycity)\n",
    "    #print(Quantity_ordered_bycity.idxmax())\n",
    "    print(f'Most product ordered is {Quantity_ordered_bycity.idxmax()}in the city of {city} with {Quantity_ordered_bycity.max()} orders')\n"
   ]
  },
  {
   "cell_type": "markdown",
   "id": "2fafbe73",
   "metadata": {},
   "source": [
    "We can realize that **AAA Batteries (4-pack)** are mostly ordered in all cities of the USA, this makes some sense since this product is a day to day product."
   ]
  },
  {
   "cell_type": "code",
   "execution_count": 36,
   "id": "e4013448",
   "metadata": {},
   "outputs": [
    {
     "name": "stdout",
     "output_type": "stream",
     "text": [
      "Most product ordered is AAA Batteries (4-pack)in the month of 04 with 2934.0 orders\n",
      "Most product ordered is AAA Batteries (4-pack)in the month of 05 with 2923.0 orders\n",
      "Most product ordered is AAA Batteries (4-pack)in the month of 08 with 2019.0 orders\n",
      "Most product ordered is AAA Batteries (4-pack)in the month of 09 with 1922.0 orders\n",
      "Most product ordered is AAA Batteries (4-pack)in the month of 12 with 4238.0 orders\n",
      "Most product ordered is AAA Batteries (4-pack)in the month of 01 with 1600.0 orders\n",
      "Most product ordered is AAA Batteries (4-pack)in the month of 02 with 1971.0 orders\n",
      "Most product ordered is AAA Batteries (4-pack)in the month of 03 with 2477.0 orders\n",
      "Most product ordered is AAA Batteries (4-pack)in the month of 07 with 2361.0 orders\n",
      "Most product ordered is AAA Batteries (4-pack)in the month of 06 with 2161.0 orders\n",
      "Most product ordered is AAA Batteries (4-pack)in the month of 11 with 3021.0 orders\n",
      "Most product ordered is AAA Batteries (4-pack)in the month of 10 with 3357.0 orders\n"
     ]
    }
   ],
   "source": [
    "#let's break it by month now\n",
    "for month in all_data['Month'].unique():\n",
    "    Quantity_ordered_bymonth = all_data[all_data['Month']==month].groupby('Product')['Quantity Ordered'].sum()\n",
    "    #print(Quantity_ordered_bymonth)\n",
    "    #print(Quantity_ordered_bycity.idxmax())\n",
    "    print(f'Most product ordered is {Quantity_ordered_bymonth.idxmax()}in the month of {month} with {Quantity_ordered_bymonth.max()} orders')\n",
    "\n"
   ]
  },
  {
   "cell_type": "markdown",
   "id": "ba749c8b",
   "metadata": {},
   "source": [
    "We can still observe that the **AAA Batteries (4-pack)** is the still the best product ordered by month."
   ]
  },
  {
   "cell_type": "code",
   "execution_count": 37,
   "id": "28510d73",
   "metadata": {},
   "outputs": [
    {
     "name": "stdout",
     "output_type": "stream",
     "text": [
      "Most product ordered is Macbook Pro Laptop in the month of 04 with $771800.0 sales\n",
      "Most product ordered is Macbook Pro Laptop in the month of 05 with $788800.0 sales\n",
      "Most product ordered is Macbook Pro Laptop in the month of 08 with $506600.0 sales\n",
      "Most product ordered is Macbook Pro Laptop in the month of 09 with $487900.0 sales\n",
      "Most product ordered is Macbook Pro Laptop in the month of 12 with $1093100.0 sales\n",
      "Most product ordered is Macbook Pro Laptop in the month of 01 with $399500.0 sales\n",
      "Most product ordered is Macbook Pro Laptop in the month of 02 with $469200.0 sales\n",
      "Most product ordered is Macbook Pro Laptop in the month of 03 with $644300.0 sales\n",
      "Most product ordered is Macbook Pro Laptop in the month of 07 with $625600.0 sales\n",
      "Most product ordered is Macbook Pro Laptop in the month of 06 with $605200.0 sales\n",
      "Most product ordered is Macbook Pro Laptop in the month of 11 with $748000.0 sales\n",
      "Most product ordered is Macbook Pro Laptop in the month of 10 with $892500.0 sales\n"
     ]
    }
   ],
   "source": [
    "#Let's get the product with the best sales per month\n",
    "for month in all_data['Month'].unique():\n",
    "    Sales_bymonth = all_data[all_data['Month']==month].groupby('Product')['sales'].sum()\n",
    "    #print(Sales_bymonth)\n",
    "    #print(Sales_bycity.idxmax())\n",
    "    print(f'Most product ordered is {Sales_bymonth.idxmax()} in the month of {month} with ${Sales_bymonth.max()} sales')\n",
    "\n"
   ]
  },
  {
   "cell_type": "code",
   "execution_count": 38,
   "id": "c00aa40d",
   "metadata": {},
   "outputs": [
    {
     "name": "stdout",
     "output_type": "stream",
     "text": [
      "Most product ordered is Macbook Pro Laptop in the city of Dallas with $647700.0 sales\n",
      "Most product ordered is Macbook Pro Laptop in the city of Boston with $814300.0 sales\n",
      "Most product ordered is Macbook Pro Laptop in the city of Los Angeles with $1275000.0 sales\n",
      "Most product ordered is Macbook Pro Laptop in the city of San Francisco with $1929500.0 sales\n",
      "Most product ordered is Macbook Pro Laptop in the city of Seattle with $605200.0 sales\n",
      "Most product ordered is Macbook Pro Laptop in the city of Atlanta with $644300.0 sales\n",
      "Most product ordered is Macbook Pro Laptop in the city of New York City with $1116900.0 sales\n",
      "Most product ordered is Macbook Pro Laptop in the city of Portland with $572900.0 sales\n",
      "Most product ordered is Macbook Pro Laptop in the city of Austin with $426700.0 sales\n"
     ]
    }
   ],
   "source": [
    "#Let's get the product with the best sales per month\n",
    "for city in City:\n",
    "    Sales_bycity = all_data[all_data['City']==city].groupby('Product')['sales'].sum()\n",
    "    #print(Sales_bymonth)\n",
    "    #print(Sales_bycity.idxmax())\n",
    "    print(f'Most product ordered is {Sales_bycity.idxmax()} in the city of {city} with ${Sales_bycity.max()} sales')\n",
    "\n"
   ]
  },
  {
   "cell_type": "markdown",
   "id": "a340f60a",
   "metadata": {},
   "source": [
    "### When can we intitiate a marketing campaign in order to increase sales?"
   ]
  },
  {
   "cell_type": "code",
   "execution_count": 39,
   "id": "427a9a31",
   "metadata": {},
   "outputs": [],
   "source": [
    "all_data['Hours'] = all_data['Order Date'].dt.hour"
   ]
  },
  {
   "cell_type": "code",
   "execution_count": 40,
   "id": "fc20bc86",
   "metadata": {},
   "outputs": [
    {
     "data": {
      "text/html": [
       "<div>\n",
       "<style scoped>\n",
       "    .dataframe tbody tr th:only-of-type {\n",
       "        vertical-align: middle;\n",
       "    }\n",
       "\n",
       "    .dataframe tbody tr th {\n",
       "        vertical-align: top;\n",
       "    }\n",
       "\n",
       "    .dataframe thead th {\n",
       "        text-align: right;\n",
       "    }\n",
       "</style>\n",
       "<table border=\"1\" class=\"dataframe\">\n",
       "  <thead>\n",
       "    <tr style=\"text-align: right;\">\n",
       "      <th></th>\n",
       "      <th>Order ID</th>\n",
       "      <th>Product</th>\n",
       "      <th>Quantity Ordered</th>\n",
       "      <th>Price Each</th>\n",
       "      <th>Order Date</th>\n",
       "      <th>Purchase Address</th>\n",
       "      <th>sales</th>\n",
       "      <th>Month</th>\n",
       "      <th>City</th>\n",
       "      <th>Hours</th>\n",
       "    </tr>\n",
       "  </thead>\n",
       "  <tbody>\n",
       "    <tr>\n",
       "      <th>0</th>\n",
       "      <td>176558</td>\n",
       "      <td>USB-C Charging Cable</td>\n",
       "      <td>2</td>\n",
       "      <td>11.95</td>\n",
       "      <td>2019-04-19 08:46:00</td>\n",
       "      <td>917 1st St, Dallas, TX 75001</td>\n",
       "      <td>23.90</td>\n",
       "      <td>04</td>\n",
       "      <td>Dallas</td>\n",
       "      <td>8</td>\n",
       "    </tr>\n",
       "    <tr>\n",
       "      <th>1</th>\n",
       "      <td>176559</td>\n",
       "      <td>Bose SoundSport Headphones</td>\n",
       "      <td>1</td>\n",
       "      <td>99.99</td>\n",
       "      <td>2019-04-07 22:30:00</td>\n",
       "      <td>682 Chestnut St, Boston, MA 02215</td>\n",
       "      <td>99.99</td>\n",
       "      <td>04</td>\n",
       "      <td>Boston</td>\n",
       "      <td>22</td>\n",
       "    </tr>\n",
       "    <tr>\n",
       "      <th>2</th>\n",
       "      <td>176560</td>\n",
       "      <td>Google Phone</td>\n",
       "      <td>1</td>\n",
       "      <td>600.00</td>\n",
       "      <td>2019-04-12 14:38:00</td>\n",
       "      <td>669 Spruce St, Los Angeles, CA 90001</td>\n",
       "      <td>600.00</td>\n",
       "      <td>04</td>\n",
       "      <td>Los Angeles</td>\n",
       "      <td>14</td>\n",
       "    </tr>\n",
       "    <tr>\n",
       "      <th>3</th>\n",
       "      <td>176560</td>\n",
       "      <td>Wired Headphones</td>\n",
       "      <td>1</td>\n",
       "      <td>11.99</td>\n",
       "      <td>2019-04-12 14:38:00</td>\n",
       "      <td>669 Spruce St, Los Angeles, CA 90001</td>\n",
       "      <td>11.99</td>\n",
       "      <td>04</td>\n",
       "      <td>Los Angeles</td>\n",
       "      <td>14</td>\n",
       "    </tr>\n",
       "    <tr>\n",
       "      <th>4</th>\n",
       "      <td>176561</td>\n",
       "      <td>Wired Headphones</td>\n",
       "      <td>1</td>\n",
       "      <td>11.99</td>\n",
       "      <td>2019-04-30 09:27:00</td>\n",
       "      <td>333 8th St, Los Angeles, CA 90001</td>\n",
       "      <td>11.99</td>\n",
       "      <td>04</td>\n",
       "      <td>Los Angeles</td>\n",
       "      <td>9</td>\n",
       "    </tr>\n",
       "    <tr>\n",
       "      <th>...</th>\n",
       "      <td>...</td>\n",
       "      <td>...</td>\n",
       "      <td>...</td>\n",
       "      <td>...</td>\n",
       "      <td>...</td>\n",
       "      <td>...</td>\n",
       "      <td>...</td>\n",
       "      <td>...</td>\n",
       "      <td>...</td>\n",
       "      <td>...</td>\n",
       "    </tr>\n",
       "    <tr>\n",
       "      <th>11681</th>\n",
       "      <td>259353</td>\n",
       "      <td>AAA Batteries (4-pack)</td>\n",
       "      <td>3</td>\n",
       "      <td>2.99</td>\n",
       "      <td>2019-09-17 20:56:00</td>\n",
       "      <td>840 Highland St, Los Angeles, CA 90001</td>\n",
       "      <td>8.97</td>\n",
       "      <td>09</td>\n",
       "      <td>Los Angeles</td>\n",
       "      <td>20</td>\n",
       "    </tr>\n",
       "    <tr>\n",
       "      <th>11682</th>\n",
       "      <td>259354</td>\n",
       "      <td>iPhone</td>\n",
       "      <td>1</td>\n",
       "      <td>700.00</td>\n",
       "      <td>2019-09-01 16:00:00</td>\n",
       "      <td>216 Dogwood St, San Francisco, CA 94016</td>\n",
       "      <td>700.00</td>\n",
       "      <td>09</td>\n",
       "      <td>San Francisco</td>\n",
       "      <td>16</td>\n",
       "    </tr>\n",
       "    <tr>\n",
       "      <th>11683</th>\n",
       "      <td>259355</td>\n",
       "      <td>iPhone</td>\n",
       "      <td>1</td>\n",
       "      <td>700.00</td>\n",
       "      <td>2019-09-23 07:39:00</td>\n",
       "      <td>220 12th St, San Francisco, CA 94016</td>\n",
       "      <td>700.00</td>\n",
       "      <td>09</td>\n",
       "      <td>San Francisco</td>\n",
       "      <td>7</td>\n",
       "    </tr>\n",
       "    <tr>\n",
       "      <th>11684</th>\n",
       "      <td>259356</td>\n",
       "      <td>34in Ultrawide Monitor</td>\n",
       "      <td>1</td>\n",
       "      <td>379.99</td>\n",
       "      <td>2019-09-19 17:30:00</td>\n",
       "      <td>511 Forest St, San Francisco, CA 94016</td>\n",
       "      <td>379.99</td>\n",
       "      <td>09</td>\n",
       "      <td>San Francisco</td>\n",
       "      <td>17</td>\n",
       "    </tr>\n",
       "    <tr>\n",
       "      <th>11685</th>\n",
       "      <td>259357</td>\n",
       "      <td>USB-C Charging Cable</td>\n",
       "      <td>1</td>\n",
       "      <td>11.95</td>\n",
       "      <td>2019-09-30 00:18:00</td>\n",
       "      <td>250 Meadow St, San Francisco, CA 94016</td>\n",
       "      <td>11.95</td>\n",
       "      <td>09</td>\n",
       "      <td>San Francisco</td>\n",
       "      <td>0</td>\n",
       "    </tr>\n",
       "  </tbody>\n",
       "</table>\n",
       "<p>185675 rows × 10 columns</p>\n",
       "</div>"
      ],
      "text/plain": [
       "       Order ID                     Product  Quantity Ordered  Price Each  \\\n",
       "0        176558        USB-C Charging Cable                 2       11.95   \n",
       "1        176559  Bose SoundSport Headphones                 1       99.99   \n",
       "2        176560                Google Phone                 1      600.00   \n",
       "3        176560            Wired Headphones                 1       11.99   \n",
       "4        176561            Wired Headphones                 1       11.99   \n",
       "...         ...                         ...               ...         ...   \n",
       "11681    259353      AAA Batteries (4-pack)                 3        2.99   \n",
       "11682    259354                      iPhone                 1      700.00   \n",
       "11683    259355                      iPhone                 1      700.00   \n",
       "11684    259356      34in Ultrawide Monitor                 1      379.99   \n",
       "11685    259357        USB-C Charging Cable                 1       11.95   \n",
       "\n",
       "               Order Date                         Purchase Address   sales  \\\n",
       "0     2019-04-19 08:46:00             917 1st St, Dallas, TX 75001   23.90   \n",
       "1     2019-04-07 22:30:00        682 Chestnut St, Boston, MA 02215   99.99   \n",
       "2     2019-04-12 14:38:00     669 Spruce St, Los Angeles, CA 90001  600.00   \n",
       "3     2019-04-12 14:38:00     669 Spruce St, Los Angeles, CA 90001   11.99   \n",
       "4     2019-04-30 09:27:00        333 8th St, Los Angeles, CA 90001   11.99   \n",
       "...                   ...                                      ...     ...   \n",
       "11681 2019-09-17 20:56:00   840 Highland St, Los Angeles, CA 90001    8.97   \n",
       "11682 2019-09-01 16:00:00  216 Dogwood St, San Francisco, CA 94016  700.00   \n",
       "11683 2019-09-23 07:39:00     220 12th St, San Francisco, CA 94016  700.00   \n",
       "11684 2019-09-19 17:30:00   511 Forest St, San Francisco, CA 94016  379.99   \n",
       "11685 2019-09-30 00:18:00   250 Meadow St, San Francisco, CA 94016   11.95   \n",
       "\n",
       "      Month           City  Hours  \n",
       "0        04         Dallas      8  \n",
       "1        04         Boston     22  \n",
       "2        04    Los Angeles     14  \n",
       "3        04    Los Angeles     14  \n",
       "4        04    Los Angeles      9  \n",
       "...     ...            ...    ...  \n",
       "11681    09    Los Angeles     20  \n",
       "11682    09  San Francisco     16  \n",
       "11683    09  San Francisco      7  \n",
       "11684    09  San Francisco     17  \n",
       "11685    09  San Francisco      0  \n",
       "\n",
       "[185675 rows x 10 columns]"
      ]
     },
     "execution_count": 40,
     "metadata": {},
     "output_type": "execute_result"
    }
   ],
   "source": [
    "all_data"
   ]
  },
  {
   "cell_type": "code",
   "execution_count": 41,
   "id": "6e4e667c",
   "metadata": {},
   "outputs": [
    {
     "data": {
      "text/html": [
       "<div>\n",
       "<style scoped>\n",
       "    .dataframe tbody tr th:only-of-type {\n",
       "        vertical-align: middle;\n",
       "    }\n",
       "\n",
       "    .dataframe tbody tr th {\n",
       "        vertical-align: top;\n",
       "    }\n",
       "\n",
       "    .dataframe thead th {\n",
       "        text-align: right;\n",
       "    }\n",
       "</style>\n",
       "<table border=\"1\" class=\"dataframe\">\n",
       "  <thead>\n",
       "    <tr style=\"text-align: right;\">\n",
       "      <th></th>\n",
       "      <th>Order ID</th>\n",
       "      <th>Product</th>\n",
       "      <th>Quantity Ordered</th>\n",
       "      <th>Price Each</th>\n",
       "      <th>Order Date</th>\n",
       "      <th>Purchase Address</th>\n",
       "      <th>sales</th>\n",
       "      <th>Month</th>\n",
       "      <th>City</th>\n",
       "      <th>Hours</th>\n",
       "    </tr>\n",
       "  </thead>\n",
       "  <tbody>\n",
       "    <tr>\n",
       "      <th>0</th>\n",
       "      <td>176558</td>\n",
       "      <td>USB-C Charging Cable</td>\n",
       "      <td>2</td>\n",
       "      <td>11.95</td>\n",
       "      <td>2019-04-19 08:46:00</td>\n",
       "      <td>917 1st St, Dallas, TX 75001</td>\n",
       "      <td>23.90</td>\n",
       "      <td>04</td>\n",
       "      <td>Dallas</td>\n",
       "      <td>8</td>\n",
       "    </tr>\n",
       "    <tr>\n",
       "      <th>1</th>\n",
       "      <td>176559</td>\n",
       "      <td>Bose SoundSport Headphones</td>\n",
       "      <td>1</td>\n",
       "      <td>99.99</td>\n",
       "      <td>2019-04-07 22:30:00</td>\n",
       "      <td>682 Chestnut St, Boston, MA 02215</td>\n",
       "      <td>99.99</td>\n",
       "      <td>04</td>\n",
       "      <td>Boston</td>\n",
       "      <td>22</td>\n",
       "    </tr>\n",
       "    <tr>\n",
       "      <th>2</th>\n",
       "      <td>176560</td>\n",
       "      <td>Google Phone</td>\n",
       "      <td>1</td>\n",
       "      <td>600.00</td>\n",
       "      <td>2019-04-12 14:38:00</td>\n",
       "      <td>669 Spruce St, Los Angeles, CA 90001</td>\n",
       "      <td>600.00</td>\n",
       "      <td>04</td>\n",
       "      <td>Los Angeles</td>\n",
       "      <td>14</td>\n",
       "    </tr>\n",
       "    <tr>\n",
       "      <th>3</th>\n",
       "      <td>176560</td>\n",
       "      <td>Wired Headphones</td>\n",
       "      <td>1</td>\n",
       "      <td>11.99</td>\n",
       "      <td>2019-04-12 14:38:00</td>\n",
       "      <td>669 Spruce St, Los Angeles, CA 90001</td>\n",
       "      <td>11.99</td>\n",
       "      <td>04</td>\n",
       "      <td>Los Angeles</td>\n",
       "      <td>14</td>\n",
       "    </tr>\n",
       "    <tr>\n",
       "      <th>4</th>\n",
       "      <td>176561</td>\n",
       "      <td>Wired Headphones</td>\n",
       "      <td>1</td>\n",
       "      <td>11.99</td>\n",
       "      <td>2019-04-30 09:27:00</td>\n",
       "      <td>333 8th St, Los Angeles, CA 90001</td>\n",
       "      <td>11.99</td>\n",
       "      <td>04</td>\n",
       "      <td>Los Angeles</td>\n",
       "      <td>9</td>\n",
       "    </tr>\n",
       "    <tr>\n",
       "      <th>...</th>\n",
       "      <td>...</td>\n",
       "      <td>...</td>\n",
       "      <td>...</td>\n",
       "      <td>...</td>\n",
       "      <td>...</td>\n",
       "      <td>...</td>\n",
       "      <td>...</td>\n",
       "      <td>...</td>\n",
       "      <td>...</td>\n",
       "      <td>...</td>\n",
       "    </tr>\n",
       "    <tr>\n",
       "      <th>1187</th>\n",
       "      <td>177687</td>\n",
       "      <td>Wired Headphones</td>\n",
       "      <td>1</td>\n",
       "      <td>11.99</td>\n",
       "      <td>2019-04-01 04:12:00</td>\n",
       "      <td>23 Meadow St, San Francisco, CA 94016</td>\n",
       "      <td>11.99</td>\n",
       "      <td>04</td>\n",
       "      <td>San Francisco</td>\n",
       "      <td>4</td>\n",
       "    </tr>\n",
       "    <tr>\n",
       "      <th>1340</th>\n",
       "      <td>177831</td>\n",
       "      <td>Lightning Charging Cable</td>\n",
       "      <td>1</td>\n",
       "      <td>14.95</td>\n",
       "      <td>2019-04-01 03:09:00</td>\n",
       "      <td>914 6th St, San Francisco, CA 94016</td>\n",
       "      <td>14.95</td>\n",
       "      <td>04</td>\n",
       "      <td>San Francisco</td>\n",
       "      <td>3</td>\n",
       "    </tr>\n",
       "    <tr>\n",
       "      <th>1417</th>\n",
       "      <td>177906</td>\n",
       "      <td>Google Phone</td>\n",
       "      <td>1</td>\n",
       "      <td>600.00</td>\n",
       "      <td>2019-04-15 04:59:00</td>\n",
       "      <td>876 Wilson St, New York City, NY 10001</td>\n",
       "      <td>600.00</td>\n",
       "      <td>04</td>\n",
       "      <td>New York City</td>\n",
       "      <td>4</td>\n",
       "    </tr>\n",
       "    <tr>\n",
       "      <th>1595</th>\n",
       "      <td>178077</td>\n",
       "      <td>ThinkPad Laptop</td>\n",
       "      <td>1</td>\n",
       "      <td>999.99</td>\n",
       "      <td>2019-04-06 03:09:00</td>\n",
       "      <td>771 14th St, San Francisco, CA 94016</td>\n",
       "      <td>999.99</td>\n",
       "      <td>04</td>\n",
       "      <td>San Francisco</td>\n",
       "      <td>3</td>\n",
       "    </tr>\n",
       "    <tr>\n",
       "      <th>1820</th>\n",
       "      <td>178288</td>\n",
       "      <td>Lightning Charging Cable</td>\n",
       "      <td>1</td>\n",
       "      <td>14.95</td>\n",
       "      <td>2019-04-03 03:22:00</td>\n",
       "      <td>102 8th St, Dallas, TX 75001</td>\n",
       "      <td>14.95</td>\n",
       "      <td>04</td>\n",
       "      <td>Dallas</td>\n",
       "      <td>3</td>\n",
       "    </tr>\n",
       "  </tbody>\n",
       "</table>\n",
       "<p>120 rows × 10 columns</p>\n",
       "</div>"
      ],
      "text/plain": [
       "      Order ID                     Product  Quantity Ordered  Price Each  \\\n",
       "0       176558        USB-C Charging Cable                 2       11.95   \n",
       "1       176559  Bose SoundSport Headphones                 1       99.99   \n",
       "2       176560                Google Phone                 1      600.00   \n",
       "3       176560            Wired Headphones                 1       11.99   \n",
       "4       176561            Wired Headphones                 1       11.99   \n",
       "...        ...                         ...               ...         ...   \n",
       "1187    177687            Wired Headphones                 1       11.99   \n",
       "1340    177831    Lightning Charging Cable                 1       14.95   \n",
       "1417    177906                Google Phone                 1      600.00   \n",
       "1595    178077             ThinkPad Laptop                 1      999.99   \n",
       "1820    178288    Lightning Charging Cable                 1       14.95   \n",
       "\n",
       "              Order Date                        Purchase Address   sales  \\\n",
       "0    2019-04-19 08:46:00            917 1st St, Dallas, TX 75001   23.90   \n",
       "1    2019-04-07 22:30:00       682 Chestnut St, Boston, MA 02215   99.99   \n",
       "2    2019-04-12 14:38:00    669 Spruce St, Los Angeles, CA 90001  600.00   \n",
       "3    2019-04-12 14:38:00    669 Spruce St, Los Angeles, CA 90001   11.99   \n",
       "4    2019-04-30 09:27:00       333 8th St, Los Angeles, CA 90001   11.99   \n",
       "...                  ...                                     ...     ...   \n",
       "1187 2019-04-01 04:12:00   23 Meadow St, San Francisco, CA 94016   11.99   \n",
       "1340 2019-04-01 03:09:00     914 6th St, San Francisco, CA 94016   14.95   \n",
       "1417 2019-04-15 04:59:00  876 Wilson St, New York City, NY 10001  600.00   \n",
       "1595 2019-04-06 03:09:00    771 14th St, San Francisco, CA 94016  999.99   \n",
       "1820 2019-04-03 03:22:00            102 8th St, Dallas, TX 75001   14.95   \n",
       "\n",
       "     Month           City  Hours  \n",
       "0       04         Dallas      8  \n",
       "1       04         Boston     22  \n",
       "2       04    Los Angeles     14  \n",
       "3       04    Los Angeles     14  \n",
       "4       04    Los Angeles      9  \n",
       "...    ...            ...    ...  \n",
       "1187    04  San Francisco      4  \n",
       "1340    04  San Francisco      3  \n",
       "1417    04  New York City      4  \n",
       "1595    04  San Francisco      3  \n",
       "1820    04         Dallas      3  \n",
       "\n",
       "[120 rows x 10 columns]"
      ]
     },
     "execution_count": 41,
     "metadata": {},
     "output_type": "execute_result"
    }
   ],
   "source": [
    "all_data.groupby('Hours').head()"
   ]
  },
  {
   "cell_type": "code",
   "execution_count": 42,
   "id": "9cbed29b",
   "metadata": {},
   "outputs": [
    {
     "data": {
      "text/plain": [
       "[0,\n",
       " 1,\n",
       " 2,\n",
       " 3,\n",
       " 4,\n",
       " 5,\n",
       " 6,\n",
       " 7,\n",
       " 8,\n",
       " 9,\n",
       " 10,\n",
       " 11,\n",
       " 12,\n",
       " 13,\n",
       " 14,\n",
       " 15,\n",
       " 16,\n",
       " 17,\n",
       " 18,\n",
       " 19,\n",
       " 20,\n",
       " 21,\n",
       " 22,\n",
       " 23]"
      ]
     },
     "metadata": {},
     "output_type": "display_data"
    },
    {
     "data": {
      "text/plain": [
       "[3902,\n",
       " 2347,\n",
       " 1242,\n",
       " 830,\n",
       " 852,\n",
       " 1320,\n",
       " 2481,\n",
       " 4000,\n",
       " 6252,\n",
       " 8740,\n",
       " 10928,\n",
       " 12392,\n",
       " 12572,\n",
       " 12115,\n",
       " 10965,\n",
       " 10159,\n",
       " 10357,\n",
       " 10883,\n",
       " 12263,\n",
       " 12886,\n",
       " 12215,\n",
       " 10904,\n",
       " 8808,\n",
       " 6262]"
      ]
     },
     "metadata": {},
     "output_type": "display_data"
    }
   ],
   "source": [
    "keys = []\n",
    "hours = []\n",
    "for key, hour in all_data.groupby('Hours'):\n",
    "    keys.append(key)\n",
    "    hours.append(len(hour))\n",
    "display(keys , hours)"
   ]
  },
  {
   "cell_type": "code",
   "execution_count": 43,
   "id": "81ee3649",
   "metadata": {
    "scrolled": true
   },
   "outputs": [
    {
     "data": {
      "image/png": "[encoded data removed]",
      "text/plain": [
       "<Figure size 432x288 with 1 Axes>"
      ]
     },
     "metadata": {
      "needs_background": "light"
     },
     "output_type": "display_data"
    }
   ],
   "source": [
    "plt.grid()\n",
    "plt.plot(keys,hours)\n",
    "plt.xlabel('hour of the day')\n",
    "plt.ylabel('number of orders')\n",
    "plt.show()"
   ]
  },
  {
   "cell_type": "markdown",
   "id": "b96bfa36",
   "metadata": {},
   "source": [
    "We can observe that the sales number increases from 10:00 AM to 03:00 PM due to breaks period then from 04:00 PM to 08:00 PM certainly after working hours and home duties.In sum the right timing for a marketing campaign should be between 07:00 AM to 10:00 PM."
   ]
  },
  {
   "cell_type": "markdown",
   "id": "59bcbbe4",
   "metadata": {},
   "source": [
    "### Mostly sold product ?"
   ]
  },
  {
   "cell_type": "code",
   "execution_count": 44,
   "id": "c6bc316b",
   "metadata": {},
   "outputs": [
    {
     "data": {
      "text/plain": [
       "Product\n",
       "20in Monitor                   4126.0\n",
       "27in 4K Gaming Monitor         6239.0\n",
       "27in FHD Monitor               7540.0\n",
       "34in Ultrawide Monitor         6191.0\n",
       "AA Batteries (4-pack)         27614.0\n",
       "AAA Batteries (4-pack)        30984.0\n",
       "Apple Airpods Headphones      15637.0\n",
       "Bose SoundSport Headphones    13430.0\n",
       "Flatscreen TV                  4812.0\n",
       "Google Phone                   5529.0\n",
       "LG Dryer                        646.0\n",
       "LG Washing Machine              666.0\n",
       "Lightning Charging Cable      23168.0\n",
       "Macbook Pro Laptop             4725.0\n",
       "ThinkPad Laptop                4128.0\n",
       "USB-C Charging Cable          23927.0\n",
       "Vareebadd Phone                2068.0\n",
       "Wired Headphones              20524.0\n",
       "iPhone                         6846.0\n",
       "Name: Quantity Ordered, dtype: float64"
      ]
     },
     "execution_count": 44,
     "metadata": {},
     "output_type": "execute_result"
    }
   ],
   "source": [
    "all_data.groupby('Product')['Quantity Ordered'].sum()"
   ]
  },
  {
   "cell_type": "code",
   "execution_count": 45,
   "id": "a7cbb6d0",
   "metadata": {},
   "outputs": [
    {
     "data": {
      "text/plain": [
       "<AxesSubplot:xlabel='Product'>"
      ]
     },
     "execution_count": 45,
     "metadata": {},
     "output_type": "execute_result"
    },
    {
     "data": {
      "image/png": "[encoded data removed]",
      "text/plain": [
       "<Figure size 432x288 with 1 Axes>"
      ]
     },
     "metadata": {
      "needs_background": "light"
     },
     "output_type": "display_data"
    }
   ],
   "source": [
    "all_data.groupby('Product')['Quantity Ordered'].sum().plot(kind='bar')"
   ]
  },
  {
   "cell_type": "code",
   "execution_count": 46,
   "id": "e172a287",
   "metadata": {},
   "outputs": [
    {
     "data": {
      "text/plain": [
       "Product\n",
       "20in Monitor                   109.99\n",
       "27in 4K Gaming Monitor         389.99\n",
       "27in FHD Monitor               149.99\n",
       "34in Ultrawide Monitor         379.99\n",
       "AA Batteries (4-pack)            3.84\n",
       "AAA Batteries (4-pack)           2.99\n",
       "Apple Airpods Headphones       150.00\n",
       "Bose SoundSport Headphones      99.99\n",
       "Flatscreen TV                  300.00\n",
       "Google Phone                   600.00\n",
       "LG Dryer                       600.00\n",
       "LG Washing Machine             600.00\n",
       "Lightning Charging Cable        14.95\n",
       "Macbook Pro Laptop            1700.00\n",
       "ThinkPad Laptop                999.99\n",
       "USB-C Charging Cable            11.95\n",
       "Vareebadd Phone                400.00\n",
       "Wired Headphones                11.99\n",
       "iPhone                         700.00\n",
       "Name: Price Each, dtype: float64"
      ]
     },
     "execution_count": 46,
     "metadata": {},
     "output_type": "execute_result"
    }
   ],
   "source": [
    "all_data.groupby('Product')['Price Each'].mean()"
   ]
  },
  {
   "cell_type": "code",
   "execution_count": 47,
   "id": "b18736bf",
   "metadata": {},
   "outputs": [],
   "source": [
    "products = all_data.groupby('Product')['Quantity Ordered'].sum().index\n",
    "quantity = all_data.groupby('Product')['Quantity Ordered'].sum() \n",
    "prices = all_data.groupby('Product')['Price Each'].mean()\n",
    "sales = all_data.groupby('Product')['sales'].mean()"
   ]
  },
  {
   "cell_type": "code",
   "execution_count": 48,
   "id": "d350b805",
   "metadata": {},
   "outputs": [
    {
     "name": "stderr",
     "output_type": "stream",
     "text": [
      "<ipython-input-48-39874b87678c>:6: UserWarning: FixedFormatter should only be used together with FixedLocator\n",
      "  ax1.set_xticklabels(products,rotation='vertical',size=8)\n"
     ]
    },
    {
     "data": {
      "text/plain": [
       "<Figure size 7200x3600 with 0 Axes>"
      ]
     },
     "metadata": {},
     "output_type": "display_data"
    },
    {
     "data": {
      "image/png": "[encoded data removed]",
      "text/plain": [
       "<Figure size 432x288 with 2 Axes>"
      ]
     },
     "metadata": {
      "needs_background": "light"
     },
     "output_type": "display_data"
    }
   ],
   "source": [
    "plt.figure(figsize=(100,50))\n",
    "fig, ax1= plt.subplots()\n",
    "ax2 =ax1.twinx()\n",
    "ax1.bar(products, quantity , color='g')\n",
    "ax2.plot(products, sales,'r-')\n",
    "ax1.set_xticklabels(products,rotation='vertical',size=8)\n",
    "plt.legend('Quantities')\n",
    "plt.legend(['Sales'])\n",
    "plt.show()"
   ]
  },
  {
   "cell_type": "markdown",
   "id": "e299fccb",
   "metadata": {},
   "source": [
    "Most products sold are Batteries , Apple Airports headphones , lighting charging cable , USB-C Charging cable and Wired Headphones but the products with high sales are Google phone , LG washing Machine, Macbook Pro Laptop , ThinkPad Laptops and iphones"
   ]
  },
  {
   "cell_type": "markdown",
   "id": "dcc8781c",
   "metadata": {},
   "source": [
    "## Combinations of products which are most sold"
   ]
  },
  {
   "cell_type": "code",
   "execution_count": 49,
   "id": "21e7d13e",
   "metadata": {},
   "outputs": [
    {
     "name": "stderr",
     "output_type": "stream",
     "text": [
      "<ipython-input-49-680453bb6fbb>:1: FutureWarning: Indexing with multiple keys (implicitly converted to a tuple of keys) will be deprecated, use a list instead.\n",
      "  df4 = all_data.groupby('Order ID')['Order ID','Product']\n"
     ]
    }
   ],
   "source": [
    "df4 = all_data.groupby('Order ID')['Order ID','Product']"
   ]
  },
  {
   "cell_type": "code",
   "execution_count": 50,
   "id": "a3b2ff3e",
   "metadata": {},
   "outputs": [
    {
     "data": {
      "text/plain": [
       "0        176558\n",
       "1        176559\n",
       "2        176560\n",
       "3        176560\n",
       "4        176561\n",
       "          ...  \n",
       "11681    259353\n",
       "11682    259354\n",
       "11683    259355\n",
       "11684    259356\n",
       "11685    259357\n",
       "Name: Order ID, Length: 185675, dtype: int64"
      ]
     },
     "execution_count": 50,
     "metadata": {},
     "output_type": "execute_result"
    }
   ],
   "source": [
    "all_data['Order ID']"
   ]
  },
  {
   "cell_type": "code",
   "execution_count": 51,
   "id": "4f68cce6",
   "metadata": {},
   "outputs": [
    {
     "data": {
      "text/html": [
       "<div>\n",
       "<style scoped>\n",
       "    .dataframe tbody tr th:only-of-type {\n",
       "        vertical-align: middle;\n",
       "    }\n",
       "\n",
       "    .dataframe tbody tr th {\n",
       "        vertical-align: top;\n",
       "    }\n",
       "\n",
       "    .dataframe thead th {\n",
       "        text-align: right;\n",
       "    }\n",
       "</style>\n",
       "<table border=\"1\" class=\"dataframe\">\n",
       "  <thead>\n",
       "    <tr style=\"text-align: right;\">\n",
       "      <th></th>\n",
       "      <th>Order ID</th>\n",
       "      <th>Product</th>\n",
       "    </tr>\n",
       "  </thead>\n",
       "  <tbody>\n",
       "    <tr>\n",
       "      <th>0</th>\n",
       "      <td>176558</td>\n",
       "      <td>USB-C Charging Cable</td>\n",
       "    </tr>\n",
       "    <tr>\n",
       "      <th>1</th>\n",
       "      <td>176559</td>\n",
       "      <td>Bose SoundSport Headphones</td>\n",
       "    </tr>\n",
       "    <tr>\n",
       "      <th>2</th>\n",
       "      <td>176560</td>\n",
       "      <td>Google Phone</td>\n",
       "    </tr>\n",
       "    <tr>\n",
       "      <th>3</th>\n",
       "      <td>176560</td>\n",
       "      <td>Wired Headphones</td>\n",
       "    </tr>\n",
       "    <tr>\n",
       "      <th>4</th>\n",
       "      <td>176561</td>\n",
       "      <td>Wired Headphones</td>\n",
       "    </tr>\n",
       "    <tr>\n",
       "      <th>...</th>\n",
       "      <td>...</td>\n",
       "      <td>...</td>\n",
       "    </tr>\n",
       "    <tr>\n",
       "      <th>11681</th>\n",
       "      <td>259353</td>\n",
       "      <td>AAA Batteries (4-pack)</td>\n",
       "    </tr>\n",
       "    <tr>\n",
       "      <th>11682</th>\n",
       "      <td>259354</td>\n",
       "      <td>iPhone</td>\n",
       "    </tr>\n",
       "    <tr>\n",
       "      <th>11683</th>\n",
       "      <td>259355</td>\n",
       "      <td>iPhone</td>\n",
       "    </tr>\n",
       "    <tr>\n",
       "      <th>11684</th>\n",
       "      <td>259356</td>\n",
       "      <td>34in Ultrawide Monitor</td>\n",
       "    </tr>\n",
       "    <tr>\n",
       "      <th>11685</th>\n",
       "      <td>259357</td>\n",
       "      <td>USB-C Charging Cable</td>\n",
       "    </tr>\n",
       "  </tbody>\n",
       "</table>\n",
       "<p>185675 rows × 2 columns</p>\n",
       "</div>"
      ],
      "text/plain": [
       "       Order ID                     Product\n",
       "0        176558        USB-C Charging Cable\n",
       "1        176559  Bose SoundSport Headphones\n",
       "2        176560                Google Phone\n",
       "3        176560            Wired Headphones\n",
       "4        176561            Wired Headphones\n",
       "...         ...                         ...\n",
       "11681    259353      AAA Batteries (4-pack)\n",
       "11682    259354                      iPhone\n",
       "11683    259355                      iPhone\n",
       "11684    259356      34in Ultrawide Monitor\n",
       "11685    259357        USB-C Charging Cable\n",
       "\n",
       "[185675 rows x 2 columns]"
      ]
     },
     "execution_count": 51,
     "metadata": {},
     "output_type": "execute_result"
    }
   ],
   "source": [
    "df4.head()"
   ]
  },
  {
   "cell_type": "code",
   "execution_count": 52,
   "id": "194cf8b7",
   "metadata": {},
   "outputs": [
    {
     "data": {
      "text/html": [
       "<div>\n",
       "<style scoped>\n",
       "    .dataframe tbody tr th:only-of-type {\n",
       "        vertical-align: middle;\n",
       "    }\n",
       "\n",
       "    .dataframe tbody tr th {\n",
       "        vertical-align: top;\n",
       "    }\n",
       "\n",
       "    .dataframe thead th {\n",
       "        text-align: right;\n",
       "    }\n",
       "</style>\n",
       "<table border=\"1\" class=\"dataframe\">\n",
       "  <thead>\n",
       "    <tr style=\"text-align: right;\">\n",
       "      <th></th>\n",
       "      <th>Order ID</th>\n",
       "      <th>Product</th>\n",
       "      <th>Quantity Ordered</th>\n",
       "      <th>Price Each</th>\n",
       "      <th>Order Date</th>\n",
       "      <th>Purchase Address</th>\n",
       "      <th>sales</th>\n",
       "      <th>Month</th>\n",
       "      <th>City</th>\n",
       "      <th>Hours</th>\n",
       "    </tr>\n",
       "  </thead>\n",
       "  <tbody>\n",
       "    <tr>\n",
       "      <th>0</th>\n",
       "      <td>176558</td>\n",
       "      <td>USB-C Charging Cable</td>\n",
       "      <td>2</td>\n",
       "      <td>11.95</td>\n",
       "      <td>2019-04-19 08:46:00</td>\n",
       "      <td>917 1st St, Dallas, TX 75001</td>\n",
       "      <td>23.90</td>\n",
       "      <td>04</td>\n",
       "      <td>Dallas</td>\n",
       "      <td>8</td>\n",
       "    </tr>\n",
       "    <tr>\n",
       "      <th>1</th>\n",
       "      <td>176559</td>\n",
       "      <td>Bose SoundSport Headphones</td>\n",
       "      <td>1</td>\n",
       "      <td>99.99</td>\n",
       "      <td>2019-04-07 22:30:00</td>\n",
       "      <td>682 Chestnut St, Boston, MA 02215</td>\n",
       "      <td>99.99</td>\n",
       "      <td>04</td>\n",
       "      <td>Boston</td>\n",
       "      <td>22</td>\n",
       "    </tr>\n",
       "    <tr>\n",
       "      <th>2</th>\n",
       "      <td>176560</td>\n",
       "      <td>Google Phone</td>\n",
       "      <td>1</td>\n",
       "      <td>600.00</td>\n",
       "      <td>2019-04-12 14:38:00</td>\n",
       "      <td>669 Spruce St, Los Angeles, CA 90001</td>\n",
       "      <td>600.00</td>\n",
       "      <td>04</td>\n",
       "      <td>Los Angeles</td>\n",
       "      <td>14</td>\n",
       "    </tr>\n",
       "    <tr>\n",
       "      <th>3</th>\n",
       "      <td>176560</td>\n",
       "      <td>Wired Headphones</td>\n",
       "      <td>1</td>\n",
       "      <td>11.99</td>\n",
       "      <td>2019-04-12 14:38:00</td>\n",
       "      <td>669 Spruce St, Los Angeles, CA 90001</td>\n",
       "      <td>11.99</td>\n",
       "      <td>04</td>\n",
       "      <td>Los Angeles</td>\n",
       "      <td>14</td>\n",
       "    </tr>\n",
       "    <tr>\n",
       "      <th>4</th>\n",
       "      <td>176561</td>\n",
       "      <td>Wired Headphones</td>\n",
       "      <td>1</td>\n",
       "      <td>11.99</td>\n",
       "      <td>2019-04-30 09:27:00</td>\n",
       "      <td>333 8th St, Los Angeles, CA 90001</td>\n",
       "      <td>11.99</td>\n",
       "      <td>04</td>\n",
       "      <td>Los Angeles</td>\n",
       "      <td>9</td>\n",
       "    </tr>\n",
       "  </tbody>\n",
       "</table>\n",
       "</div>"
      ],
      "text/plain": [
       "   Order ID                     Product  Quantity Ordered  Price Each  \\\n",
       "0    176558        USB-C Charging Cable                 2       11.95   \n",
       "1    176559  Bose SoundSport Headphones                 1       99.99   \n",
       "2    176560                Google Phone                 1      600.00   \n",
       "3    176560            Wired Headphones                 1       11.99   \n",
       "4    176561            Wired Headphones                 1       11.99   \n",
       "\n",
       "           Order Date                      Purchase Address   sales Month  \\\n",
       "0 2019-04-19 08:46:00          917 1st St, Dallas, TX 75001   23.90    04   \n",
       "1 2019-04-07 22:30:00     682 Chestnut St, Boston, MA 02215   99.99    04   \n",
       "2 2019-04-12 14:38:00  669 Spruce St, Los Angeles, CA 90001  600.00    04   \n",
       "3 2019-04-12 14:38:00  669 Spruce St, Los Angeles, CA 90001   11.99    04   \n",
       "4 2019-04-30 09:27:00     333 8th St, Los Angeles, CA 90001   11.99    04   \n",
       "\n",
       "          City  Hours  \n",
       "0       Dallas      8  \n",
       "1       Boston     22  \n",
       "2  Los Angeles     14  \n",
       "3  Los Angeles     14  \n",
       "4  Los Angeles      9  "
      ]
     },
     "execution_count": 52,
     "metadata": {},
     "output_type": "execute_result"
    }
   ],
   "source": [
    "all_data.head()"
   ]
  },
  {
   "cell_type": "code",
   "execution_count": 53,
   "id": "b7af8bbc",
   "metadata": {},
   "outputs": [],
   "source": [
    "df = all_data[all_data['Order ID'].duplicated(keep=False)]"
   ]
  },
  {
   "cell_type": "code",
   "execution_count": 54,
   "id": "0eb8619a",
   "metadata": {},
   "outputs": [
    {
     "name": "stdout",
     "output_type": "stream",
     "text": [
      "<class 'pandas.core.frame.DataFrame'>\n",
      "Int64Index: 185675 entries, 0 to 11685\n",
      "Data columns (total 10 columns):\n",
      " #   Column            Non-Null Count   Dtype         \n",
      "---  ------            --------------   -----         \n",
      " 0   Order ID          185675 non-null  int64         \n",
      " 1   Product           185675 non-null  object        \n",
      " 2   Quantity Ordered  185675 non-null  int8          \n",
      " 3   Price Each        185675 non-null  float64       \n",
      " 4   Order Date        185675 non-null  datetime64[ns]\n",
      " 5   Purchase Address  185675 non-null  object        \n",
      " 6   sales             185675 non-null  float64       \n",
      " 7   Month             185675 non-null  object        \n",
      " 8   City              185675 non-null  object        \n",
      " 9   Hours             185675 non-null  int64         \n",
      "dtypes: datetime64[ns](1), float64(2), int64(2), int8(1), object(4)\n",
      "memory usage: 14.3+ MB\n"
     ]
    }
   ],
   "source": [
    "all_data.info()"
   ]
  },
  {
   "cell_type": "code",
   "execution_count": 55,
   "id": "43a4fba8",
   "metadata": {},
   "outputs": [
    {
     "name": "stdout",
     "output_type": "stream",
     "text": [
      "<class 'pandas.core.frame.DataFrame'>\n",
      "Int64Index: 14128 entries, 2 to 11678\n",
      "Data columns (total 10 columns):\n",
      " #   Column            Non-Null Count  Dtype         \n",
      "---  ------            --------------  -----         \n",
      " 0   Order ID          14128 non-null  int64         \n",
      " 1   Product           14128 non-null  object        \n",
      " 2   Quantity Ordered  14128 non-null  int8          \n",
      " 3   Price Each        14128 non-null  float64       \n",
      " 4   Order Date        14128 non-null  datetime64[ns]\n",
      " 5   Purchase Address  14128 non-null  object        \n",
      " 6   sales             14128 non-null  float64       \n",
      " 7   Month             14128 non-null  object        \n",
      " 8   City              14128 non-null  object        \n",
      " 9   Hours             14128 non-null  int64         \n",
      "dtypes: datetime64[ns](1), float64(2), int64(2), int8(1), object(4)\n",
      "memory usage: 1.1+ MB\n"
     ]
    }
   ],
   "source": [
    "df.info()"
   ]
  },
  {
   "cell_type": "code",
   "execution_count": 56,
   "id": "8597c318",
   "metadata": {},
   "outputs": [
    {
     "data": {
      "text/html": [
       "<div>\n",
       "<style scoped>\n",
       "    .dataframe tbody tr th:only-of-type {\n",
       "        vertical-align: middle;\n",
       "    }\n",
       "\n",
       "    .dataframe tbody tr th {\n",
       "        vertical-align: top;\n",
       "    }\n",
       "\n",
       "    .dataframe thead th {\n",
       "        text-align: right;\n",
       "    }\n",
       "</style>\n",
       "<table border=\"1\" class=\"dataframe\">\n",
       "  <thead>\n",
       "    <tr style=\"text-align: right;\">\n",
       "      <th></th>\n",
       "      <th>Order ID</th>\n",
       "      <th>Product</th>\n",
       "      <th>Quantity Ordered</th>\n",
       "      <th>Price Each</th>\n",
       "      <th>Order Date</th>\n",
       "      <th>Purchase Address</th>\n",
       "      <th>sales</th>\n",
       "      <th>Month</th>\n",
       "      <th>City</th>\n",
       "      <th>Hours</th>\n",
       "    </tr>\n",
       "  </thead>\n",
       "  <tbody>\n",
       "    <tr>\n",
       "      <th>2</th>\n",
       "      <td>176560</td>\n",
       "      <td>Google Phone</td>\n",
       "      <td>1</td>\n",
       "      <td>600.00</td>\n",
       "      <td>2019-04-12 14:38:00</td>\n",
       "      <td>669 Spruce St, Los Angeles, CA 90001</td>\n",
       "      <td>600.00</td>\n",
       "      <td>04</td>\n",
       "      <td>Los Angeles</td>\n",
       "      <td>14</td>\n",
       "    </tr>\n",
       "    <tr>\n",
       "      <th>3</th>\n",
       "      <td>176560</td>\n",
       "      <td>Wired Headphones</td>\n",
       "      <td>1</td>\n",
       "      <td>11.99</td>\n",
       "      <td>2019-04-12 14:38:00</td>\n",
       "      <td>669 Spruce St, Los Angeles, CA 90001</td>\n",
       "      <td>11.99</td>\n",
       "      <td>04</td>\n",
       "      <td>Los Angeles</td>\n",
       "      <td>14</td>\n",
       "    </tr>\n",
       "    <tr>\n",
       "      <th>17</th>\n",
       "      <td>176574</td>\n",
       "      <td>Google Phone</td>\n",
       "      <td>1</td>\n",
       "      <td>600.00</td>\n",
       "      <td>2019-04-03 19:42:00</td>\n",
       "      <td>20 Hill St, Los Angeles, CA 90001</td>\n",
       "      <td>600.00</td>\n",
       "      <td>04</td>\n",
       "      <td>Los Angeles</td>\n",
       "      <td>19</td>\n",
       "    </tr>\n",
       "    <tr>\n",
       "      <th>18</th>\n",
       "      <td>176574</td>\n",
       "      <td>USB-C Charging Cable</td>\n",
       "      <td>1</td>\n",
       "      <td>11.95</td>\n",
       "      <td>2019-04-03 19:42:00</td>\n",
       "      <td>20 Hill St, Los Angeles, CA 90001</td>\n",
       "      <td>11.95</td>\n",
       "      <td>04</td>\n",
       "      <td>Los Angeles</td>\n",
       "      <td>19</td>\n",
       "    </tr>\n",
       "    <tr>\n",
       "      <th>31</th>\n",
       "      <td>176586</td>\n",
       "      <td>AAA Batteries (4-pack)</td>\n",
       "      <td>2</td>\n",
       "      <td>2.99</td>\n",
       "      <td>2019-04-10 17:00:00</td>\n",
       "      <td>365 Center St, San Francisco, CA 94016</td>\n",
       "      <td>5.98</td>\n",
       "      <td>04</td>\n",
       "      <td>San Francisco</td>\n",
       "      <td>17</td>\n",
       "    </tr>\n",
       "  </tbody>\n",
       "</table>\n",
       "</div>"
      ],
      "text/plain": [
       "    Order ID                 Product  Quantity Ordered  Price Each  \\\n",
       "2     176560            Google Phone                 1      600.00   \n",
       "3     176560        Wired Headphones                 1       11.99   \n",
       "17    176574            Google Phone                 1      600.00   \n",
       "18    176574    USB-C Charging Cable                 1       11.95   \n",
       "31    176586  AAA Batteries (4-pack)                 2        2.99   \n",
       "\n",
       "            Order Date                        Purchase Address   sales Month  \\\n",
       "2  2019-04-12 14:38:00    669 Spruce St, Los Angeles, CA 90001  600.00    04   \n",
       "3  2019-04-12 14:38:00    669 Spruce St, Los Angeles, CA 90001   11.99    04   \n",
       "17 2019-04-03 19:42:00       20 Hill St, Los Angeles, CA 90001  600.00    04   \n",
       "18 2019-04-03 19:42:00       20 Hill St, Los Angeles, CA 90001   11.95    04   \n",
       "31 2019-04-10 17:00:00  365 Center St, San Francisco, CA 94016    5.98    04   \n",
       "\n",
       "             City  Hours  \n",
       "2     Los Angeles     14  \n",
       "3     Los Angeles     14  \n",
       "17    Los Angeles     19  \n",
       "18    Los Angeles     19  \n",
       "31  San Francisco     17  "
      ]
     },
     "execution_count": 56,
     "metadata": {},
     "output_type": "execute_result"
    }
   ],
   "source": [
    "df.head()"
   ]
  },
  {
   "cell_type": "code",
   "execution_count": 58,
   "id": "cd1a48f4",
   "metadata": {},
   "outputs": [
    {
     "name": "stderr",
     "output_type": "stream",
     "text": [
      "<ipython-input-58-0b35994e80a8>:1: SettingWithCopyWarning: \n",
      "A value is trying to be set on a copy of a slice from a DataFrame.\n",
      "Try using .loc[row_indexer,col_indexer] = value instead\n",
      "\n",
      "See the caveats in the documentation: https://pandas.pydata.org/pandas-docs/stable/user_guide/indexing.html#returning-a-view-versus-a-copy\n",
      "  df['Grouped'] = df.groupby('Order ID')['Product'].transform(lambda x:','.join(x))\n"
     ]
    }
   ],
   "source": [
    "df['Grouped'] = df.groupby('Order ID')['Product'].transform(lambda x:','.join(x))"
   ]
  },
  {
   "cell_type": "code",
   "execution_count": 59,
   "id": "a89313b2",
   "metadata": {},
   "outputs": [
    {
     "data": {
      "text/html": [
       "<div>\n",
       "<style scoped>\n",
       "    .dataframe tbody tr th:only-of-type {\n",
       "        vertical-align: middle;\n",
       "    }\n",
       "\n",
       "    .dataframe tbody tr th {\n",
       "        vertical-align: top;\n",
       "    }\n",
       "\n",
       "    .dataframe thead th {\n",
       "        text-align: right;\n",
       "    }\n",
       "</style>\n",
       "<table border=\"1\" class=\"dataframe\">\n",
       "  <thead>\n",
       "    <tr style=\"text-align: right;\">\n",
       "      <th></th>\n",
       "      <th>Order ID</th>\n",
       "      <th>Product</th>\n",
       "      <th>Quantity Ordered</th>\n",
       "      <th>Price Each</th>\n",
       "      <th>Order Date</th>\n",
       "      <th>Purchase Address</th>\n",
       "      <th>sales</th>\n",
       "      <th>Month</th>\n",
       "      <th>City</th>\n",
       "      <th>Hours</th>\n",
       "      <th>Grouped</th>\n",
       "    </tr>\n",
       "  </thead>\n",
       "  <tbody>\n",
       "    <tr>\n",
       "      <th>2</th>\n",
       "      <td>176560</td>\n",
       "      <td>Google Phone</td>\n",
       "      <td>1</td>\n",
       "      <td>600.00</td>\n",
       "      <td>2019-04-12 14:38:00</td>\n",
       "      <td>669 Spruce St, Los Angeles, CA 90001</td>\n",
       "      <td>600.00</td>\n",
       "      <td>04</td>\n",
       "      <td>Los Angeles</td>\n",
       "      <td>14</td>\n",
       "      <td>Google Phone,Wired Headphones</td>\n",
       "    </tr>\n",
       "    <tr>\n",
       "      <th>3</th>\n",
       "      <td>176560</td>\n",
       "      <td>Wired Headphones</td>\n",
       "      <td>1</td>\n",
       "      <td>11.99</td>\n",
       "      <td>2019-04-12 14:38:00</td>\n",
       "      <td>669 Spruce St, Los Angeles, CA 90001</td>\n",
       "      <td>11.99</td>\n",
       "      <td>04</td>\n",
       "      <td>Los Angeles</td>\n",
       "      <td>14</td>\n",
       "      <td>Google Phone,Wired Headphones</td>\n",
       "    </tr>\n",
       "    <tr>\n",
       "      <th>17</th>\n",
       "      <td>176574</td>\n",
       "      <td>Google Phone</td>\n",
       "      <td>1</td>\n",
       "      <td>600.00</td>\n",
       "      <td>2019-04-03 19:42:00</td>\n",
       "      <td>20 Hill St, Los Angeles, CA 90001</td>\n",
       "      <td>600.00</td>\n",
       "      <td>04</td>\n",
       "      <td>Los Angeles</td>\n",
       "      <td>19</td>\n",
       "      <td>Google Phone,USB-C Charging Cable</td>\n",
       "    </tr>\n",
       "    <tr>\n",
       "      <th>18</th>\n",
       "      <td>176574</td>\n",
       "      <td>USB-C Charging Cable</td>\n",
       "      <td>1</td>\n",
       "      <td>11.95</td>\n",
       "      <td>2019-04-03 19:42:00</td>\n",
       "      <td>20 Hill St, Los Angeles, CA 90001</td>\n",
       "      <td>11.95</td>\n",
       "      <td>04</td>\n",
       "      <td>Los Angeles</td>\n",
       "      <td>19</td>\n",
       "      <td>Google Phone,USB-C Charging Cable</td>\n",
       "    </tr>\n",
       "    <tr>\n",
       "      <th>31</th>\n",
       "      <td>176586</td>\n",
       "      <td>AAA Batteries (4-pack)</td>\n",
       "      <td>2</td>\n",
       "      <td>2.99</td>\n",
       "      <td>2019-04-10 17:00:00</td>\n",
       "      <td>365 Center St, San Francisco, CA 94016</td>\n",
       "      <td>5.98</td>\n",
       "      <td>04</td>\n",
       "      <td>San Francisco</td>\n",
       "      <td>17</td>\n",
       "      <td>AAA Batteries (4-pack),Google Phone</td>\n",
       "    </tr>\n",
       "  </tbody>\n",
       "</table>\n",
       "</div>"
      ],
      "text/plain": [
       "    Order ID                 Product  Quantity Ordered  Price Each  \\\n",
       "2     176560            Google Phone                 1      600.00   \n",
       "3     176560        Wired Headphones                 1       11.99   \n",
       "17    176574            Google Phone                 1      600.00   \n",
       "18    176574    USB-C Charging Cable                 1       11.95   \n",
       "31    176586  AAA Batteries (4-pack)                 2        2.99   \n",
       "\n",
       "            Order Date                        Purchase Address   sales Month  \\\n",
       "2  2019-04-12 14:38:00    669 Spruce St, Los Angeles, CA 90001  600.00    04   \n",
       "3  2019-04-12 14:38:00    669 Spruce St, Los Angeles, CA 90001   11.99    04   \n",
       "17 2019-04-03 19:42:00       20 Hill St, Los Angeles, CA 90001  600.00    04   \n",
       "18 2019-04-03 19:42:00       20 Hill St, Los Angeles, CA 90001   11.95    04   \n",
       "31 2019-04-10 17:00:00  365 Center St, San Francisco, CA 94016    5.98    04   \n",
       "\n",
       "             City  Hours                              Grouped  \n",
       "2     Los Angeles     14        Google Phone,Wired Headphones  \n",
       "3     Los Angeles     14        Google Phone,Wired Headphones  \n",
       "17    Los Angeles     19    Google Phone,USB-C Charging Cable  \n",
       "18    Los Angeles     19    Google Phone,USB-C Charging Cable  \n",
       "31  San Francisco     17  AAA Batteries (4-pack),Google Phone  "
      ]
     },
     "execution_count": 59,
     "metadata": {},
     "output_type": "execute_result"
    }
   ],
   "source": [
    "df.head()"
   ]
  },
  {
   "cell_type": "code",
   "execution_count": 60,
   "id": "fd4f8df0",
   "metadata": {},
   "outputs": [],
   "source": [
    "df2 = df.drop_duplicates(subset='Order ID')"
   ]
  },
  {
   "cell_type": "code",
   "execution_count": 61,
   "id": "558a07fd",
   "metadata": {},
   "outputs": [
    {
     "data": {
      "text/html": [
       "<div>\n",
       "<style scoped>\n",
       "    .dataframe tbody tr th:only-of-type {\n",
       "        vertical-align: middle;\n",
       "    }\n",
       "\n",
       "    .dataframe tbody tr th {\n",
       "        vertical-align: top;\n",
       "    }\n",
       "\n",
       "    .dataframe thead th {\n",
       "        text-align: right;\n",
       "    }\n",
       "</style>\n",
       "<table border=\"1\" class=\"dataframe\">\n",
       "  <thead>\n",
       "    <tr style=\"text-align: right;\">\n",
       "      <th></th>\n",
       "      <th>Order ID</th>\n",
       "      <th>Product</th>\n",
       "      <th>Quantity Ordered</th>\n",
       "      <th>Price Each</th>\n",
       "      <th>Order Date</th>\n",
       "      <th>Purchase Address</th>\n",
       "      <th>sales</th>\n",
       "      <th>Month</th>\n",
       "      <th>City</th>\n",
       "      <th>Hours</th>\n",
       "      <th>Grouped</th>\n",
       "    </tr>\n",
       "  </thead>\n",
       "  <tbody>\n",
       "    <tr>\n",
       "      <th>2</th>\n",
       "      <td>176560</td>\n",
       "      <td>Google Phone</td>\n",
       "      <td>1</td>\n",
       "      <td>600.00</td>\n",
       "      <td>2019-04-12 14:38:00</td>\n",
       "      <td>669 Spruce St, Los Angeles, CA 90001</td>\n",
       "      <td>600.00</td>\n",
       "      <td>04</td>\n",
       "      <td>Los Angeles</td>\n",
       "      <td>14</td>\n",
       "      <td>Google Phone,Wired Headphones</td>\n",
       "    </tr>\n",
       "    <tr>\n",
       "      <th>17</th>\n",
       "      <td>176574</td>\n",
       "      <td>Google Phone</td>\n",
       "      <td>1</td>\n",
       "      <td>600.00</td>\n",
       "      <td>2019-04-03 19:42:00</td>\n",
       "      <td>20 Hill St, Los Angeles, CA 90001</td>\n",
       "      <td>600.00</td>\n",
       "      <td>04</td>\n",
       "      <td>Los Angeles</td>\n",
       "      <td>19</td>\n",
       "      <td>Google Phone,USB-C Charging Cable</td>\n",
       "    </tr>\n",
       "    <tr>\n",
       "      <th>31</th>\n",
       "      <td>176586</td>\n",
       "      <td>AAA Batteries (4-pack)</td>\n",
       "      <td>2</td>\n",
       "      <td>2.99</td>\n",
       "      <td>2019-04-10 17:00:00</td>\n",
       "      <td>365 Center St, San Francisco, CA 94016</td>\n",
       "      <td>5.98</td>\n",
       "      <td>04</td>\n",
       "      <td>San Francisco</td>\n",
       "      <td>17</td>\n",
       "      <td>AAA Batteries (4-pack),Google Phone</td>\n",
       "    </tr>\n",
       "    <tr>\n",
       "      <th>118</th>\n",
       "      <td>176672</td>\n",
       "      <td>Lightning Charging Cable</td>\n",
       "      <td>1</td>\n",
       "      <td>14.95</td>\n",
       "      <td>2019-04-12 11:07:00</td>\n",
       "      <td>778 Maple St, New York City, NY 10001</td>\n",
       "      <td>14.95</td>\n",
       "      <td>04</td>\n",
       "      <td>New York City</td>\n",
       "      <td>11</td>\n",
       "      <td>Lightning Charging Cable,USB-C Charging Cable</td>\n",
       "    </tr>\n",
       "    <tr>\n",
       "      <th>128</th>\n",
       "      <td>176681</td>\n",
       "      <td>Apple Airpods Headphones</td>\n",
       "      <td>1</td>\n",
       "      <td>150.00</td>\n",
       "      <td>2019-04-20 10:39:00</td>\n",
       "      <td>331 Cherry St, Seattle, WA 98101</td>\n",
       "      <td>150.00</td>\n",
       "      <td>04</td>\n",
       "      <td>Seattle</td>\n",
       "      <td>10</td>\n",
       "      <td>Apple Airpods Headphones,ThinkPad Laptop</td>\n",
       "    </tr>\n",
       "    <tr>\n",
       "      <th>...</th>\n",
       "      <td>...</td>\n",
       "      <td>...</td>\n",
       "      <td>...</td>\n",
       "      <td>...</td>\n",
       "      <td>...</td>\n",
       "      <td>...</td>\n",
       "      <td>...</td>\n",
       "      <td>...</td>\n",
       "      <td>...</td>\n",
       "      <td>...</td>\n",
       "      <td>...</td>\n",
       "    </tr>\n",
       "    <tr>\n",
       "      <th>11597</th>\n",
       "      <td>259277</td>\n",
       "      <td>iPhone</td>\n",
       "      <td>1</td>\n",
       "      <td>700.00</td>\n",
       "      <td>2019-09-28 13:07:00</td>\n",
       "      <td>795 Willow St, New York City, NY 10001</td>\n",
       "      <td>700.00</td>\n",
       "      <td>09</td>\n",
       "      <td>New York City</td>\n",
       "      <td>13</td>\n",
       "      <td>iPhone,Wired Headphones</td>\n",
       "    </tr>\n",
       "    <tr>\n",
       "      <th>11619</th>\n",
       "      <td>259297</td>\n",
       "      <td>iPhone</td>\n",
       "      <td>1</td>\n",
       "      <td>700.00</td>\n",
       "      <td>2019-09-15 18:54:00</td>\n",
       "      <td>138 Main St, Boston, MA 02215</td>\n",
       "      <td>700.00</td>\n",
       "      <td>09</td>\n",
       "      <td>Boston</td>\n",
       "      <td>18</td>\n",
       "      <td>iPhone,Lightning Charging Cable</td>\n",
       "    </tr>\n",
       "    <tr>\n",
       "      <th>11627</th>\n",
       "      <td>259303</td>\n",
       "      <td>34in Ultrawide Monitor</td>\n",
       "      <td>1</td>\n",
       "      <td>379.99</td>\n",
       "      <td>2019-09-20 20:18:00</td>\n",
       "      <td>106 7th St, Atlanta, GA 30301</td>\n",
       "      <td>379.99</td>\n",
       "      <td>09</td>\n",
       "      <td>Atlanta</td>\n",
       "      <td>20</td>\n",
       "      <td>34in Ultrawide Monitor,AA Batteries (4-pack)</td>\n",
       "    </tr>\n",
       "    <tr>\n",
       "      <th>11639</th>\n",
       "      <td>259314</td>\n",
       "      <td>Wired Headphones</td>\n",
       "      <td>1</td>\n",
       "      <td>11.99</td>\n",
       "      <td>2019-09-16 00:25:00</td>\n",
       "      <td>241 Highland St, Atlanta, GA 30301</td>\n",
       "      <td>11.99</td>\n",
       "      <td>09</td>\n",
       "      <td>Atlanta</td>\n",
       "      <td>0</td>\n",
       "      <td>Wired Headphones,AAA Batteries (4-pack)</td>\n",
       "    </tr>\n",
       "    <tr>\n",
       "      <th>11677</th>\n",
       "      <td>259350</td>\n",
       "      <td>Google Phone</td>\n",
       "      <td>1</td>\n",
       "      <td>600.00</td>\n",
       "      <td>2019-09-30 13:49:00</td>\n",
       "      <td>519 Maple St, San Francisco, CA 94016</td>\n",
       "      <td>600.00</td>\n",
       "      <td>09</td>\n",
       "      <td>San Francisco</td>\n",
       "      <td>13</td>\n",
       "      <td>Google Phone,USB-C Charging Cable</td>\n",
       "    </tr>\n",
       "  </tbody>\n",
       "</table>\n",
       "<p>6879 rows × 11 columns</p>\n",
       "</div>"
      ],
      "text/plain": [
       "       Order ID                   Product  Quantity Ordered  Price Each  \\\n",
       "2        176560              Google Phone                 1      600.00   \n",
       "17       176574              Google Phone                 1      600.00   \n",
       "31       176586    AAA Batteries (4-pack)                 2        2.99   \n",
       "118      176672  Lightning Charging Cable                 1       14.95   \n",
       "128      176681  Apple Airpods Headphones                 1      150.00   \n",
       "...         ...                       ...               ...         ...   \n",
       "11597    259277                    iPhone                 1      700.00   \n",
       "11619    259297                    iPhone                 1      700.00   \n",
       "11627    259303    34in Ultrawide Monitor                 1      379.99   \n",
       "11639    259314          Wired Headphones                 1       11.99   \n",
       "11677    259350              Google Phone                 1      600.00   \n",
       "\n",
       "               Order Date                        Purchase Address   sales  \\\n",
       "2     2019-04-12 14:38:00    669 Spruce St, Los Angeles, CA 90001  600.00   \n",
       "17    2019-04-03 19:42:00       20 Hill St, Los Angeles, CA 90001  600.00   \n",
       "31    2019-04-10 17:00:00  365 Center St, San Francisco, CA 94016    5.98   \n",
       "118   2019-04-12 11:07:00   778 Maple St, New York City, NY 10001   14.95   \n",
       "128   2019-04-20 10:39:00        331 Cherry St, Seattle, WA 98101  150.00   \n",
       "...                   ...                                     ...     ...   \n",
       "11597 2019-09-28 13:07:00  795 Willow St, New York City, NY 10001  700.00   \n",
       "11619 2019-09-15 18:54:00           138 Main St, Boston, MA 02215  700.00   \n",
       "11627 2019-09-20 20:18:00           106 7th St, Atlanta, GA 30301  379.99   \n",
       "11639 2019-09-16 00:25:00      241 Highland St, Atlanta, GA 30301   11.99   \n",
       "11677 2019-09-30 13:49:00   519 Maple St, San Francisco, CA 94016  600.00   \n",
       "\n",
       "      Month           City  Hours  \\\n",
       "2        04    Los Angeles     14   \n",
       "17       04    Los Angeles     19   \n",
       "31       04  San Francisco     17   \n",
       "118      04  New York City     11   \n",
       "128      04        Seattle     10   \n",
       "...     ...            ...    ...   \n",
       "11597    09  New York City     13   \n",
       "11619    09         Boston     18   \n",
       "11627    09        Atlanta     20   \n",
       "11639    09        Atlanta      0   \n",
       "11677    09  San Francisco     13   \n",
       "\n",
       "                                             Grouped  \n",
       "2                      Google Phone,Wired Headphones  \n",
       "17                 Google Phone,USB-C Charging Cable  \n",
       "31               AAA Batteries (4-pack),Google Phone  \n",
       "118    Lightning Charging Cable,USB-C Charging Cable  \n",
       "128         Apple Airpods Headphones,ThinkPad Laptop  \n",
       "...                                              ...  \n",
       "11597                        iPhone,Wired Headphones  \n",
       "11619                iPhone,Lightning Charging Cable  \n",
       "11627   34in Ultrawide Monitor,AA Batteries (4-pack)  \n",
       "11639        Wired Headphones,AAA Batteries (4-pack)  \n",
       "11677              Google Phone,USB-C Charging Cable  \n",
       "\n",
       "[6879 rows x 11 columns]"
      ]
     },
     "execution_count": 61,
     "metadata": {},
     "output_type": "execute_result"
    }
   ],
   "source": [
    "df2"
   ]
  },
  {
   "cell_type": "code",
   "execution_count": 62,
   "id": "67f8c3ef",
   "metadata": {},
   "outputs": [
    {
     "data": {
      "text/plain": [
       "iPhone,Lightning Charging Cable         886\n",
       "Google Phone,USB-C Charging Cable       857\n",
       "iPhone,Wired Headphones                 361\n",
       "Vareebadd Phone,USB-C Charging Cable    312\n",
       "Google Phone,Wired Headphones           303\n",
       "Name: Grouped, dtype: int64"
      ]
     },
     "execution_count": 62,
     "metadata": {},
     "output_type": "execute_result"
    }
   ],
   "source": [
    "df2['Grouped'].value_counts()[0:5]"
   ]
  },
  {
   "cell_type": "code",
   "execution_count": 63,
   "id": "4277031e",
   "metadata": {},
   "outputs": [
    {
     "data": {
      "text/plain": [
       "<AxesSubplot:ylabel='Grouped'>"
      ]
     },
     "execution_count": 63,
     "metadata": {},
     "output_type": "execute_result"
    },
    {
     "data": {
      "image/png": "[encoded data removed]",
      "text/plain": [
       "<Figure size 720x720 with 1 Axes>"
      ]
     },
     "metadata": {},
     "output_type": "display_data"
    }
   ],
   "source": [
    "df2['Grouped'].value_counts()[0:5].plot.pie(y='mass', figsize=(10, 10))"
   ]
  },
  {
   "cell_type": "markdown",
   "id": "389e311e",
   "metadata": {},
   "source": [
    "The pie Chart Above represent the proportion of highly sold combined products in a single order. Most Buyers are interested by these products."
   ]
  },
  {
   "cell_type": "code",
   "execution_count": null,
   "id": "c19a50f8",
   "metadata": {},
   "outputs": [],
   "source": []
  }
 ],
 "metadata": {
  "kernelspec": {
   "display_name": "Python 3",
   "language": "python",
   "name": "python3"
  },
  "language_info": {
   "codemirror_mode": {
    "name": "ipython",
    "version": 3
   },
   "file_extension": ".py",
   "mimetype": "text/x-python",
   "name": "python",
   "nbconvert_exporter": "python",
   "pygments_lexer": "ipython3",
   "version": "3.8.8"
  }
 },
 "nbformat": 4,
 "nbformat_minor": 5
}
